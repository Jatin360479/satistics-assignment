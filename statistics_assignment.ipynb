{
  "nbformat": 4,
  "nbformat_minor": 0,
  "metadata": {
    "colab": {
      "provenance": []
    },
    "kernelspec": {
      "name": "python3",
      "display_name": "Python 3"
    },
    "language_info": {
      "name": "python"
    }
  },
  "cells": [
    {
      "cell_type": "markdown",
      "source": [
        "### **Question** **1**. **Generate** **a** **list** **of** **100** **integers** **containing** **values** **between** **90** **to** **130** **and** **store** **it** **in** **the** **variable** **'int_list'**.\n",
        "### **After** **generating** **the** **list**, **find** **the** **following**:\n",
        "### (**i**) **Write** **a** **Python** **function** **to** **calculate** **the** **mean** **of** **a** **given** **list** **of** **numbers**.\n",
        "### **Create** **a** **function** **to** **find** **the** **median** **of** **a** **list** **of** **numbers**."
      ],
      "metadata": {
        "id": "64wK3I2tGZlE"
      }
    },
    {
      "cell_type": "code",
      "execution_count": null,
      "metadata": {
        "colab": {
          "base_uri": "https://localhost:8080/"
        },
        "id": "K9sMNmvN-uql",
        "outputId": "36331e4b-f920-440c-f384-703b698cad86"
      },
      "outputs": [
        {
          "output_type": "stream",
          "name": "stdout",
          "text": [
            "original list : [91, 117, 107, 126, 105, 125, 128, 109, 107, 104, 123, 104, 127, 100, 129, 122, 101, 110, 95, 103, 105, 92, 109, 125, 114, 107, 128, 127, 93, 100, 130, 107, 106, 105, 118, 108, 105, 113, 103, 124, 99, 116, 110, 113, 95, 116, 95, 106, 107, 107, 115, 120, 96, 128, 122, 100, 111, 100, 121, 108, 114, 112, 120, 97, 108, 130, 119, 103, 98, 116, 108, 98, 123, 107, 129, 104, 93, 96, 104, 121, 126, 97, 127, 115, 97, 100, 110, 105, 95, 130, 92, 103, 98, 121, 105, 129, 126, 91, 107, 106]\n",
            "Mean: 110.17\n",
            "Median: 107.5\n"
          ]
        }
      ],
      "source": [
        "\n",
        "import random\n",
        "import statistics\n",
        "import math\n",
        "\n",
        "# Generate a list of 100 integers between 90 and 130\n",
        "int_list = [random.randint(90, 130) for _ in range(100)]\n",
        "\n",
        "\n",
        "# (i) Mean\n",
        "def calculate_mean(numbers):\n",
        "  return sum(numbers) / len(numbers) if numbers else 0\n",
        "\n",
        "\n",
        "#  Median\n",
        "def calculate_median(numbers):\n",
        "  return statistics.median(numbers)\n",
        "\n",
        "\n",
        "print(\"original list :\",int_list)\n",
        "print(\"Mean:\", calculate_mean(int_list))\n",
        "print(\"Median:\", calculate_median(int_list))\n",
        "\n"
      ]
    },
    {
      "cell_type": "markdown",
      "source": [
        "### **(ii) Develop a program to compute the mode of a list of integers.**"
      ],
      "metadata": {
        "id": "y_zKehq6Gv1Q"
      }
    },
    {
      "cell_type": "code",
      "source": [
        "def calculate_mode(numbers):\n",
        "  return statistics.mode(numbers)\n",
        "print(\"Mode:\", calculate_mode(int_list))\n",
        "\n"
      ],
      "metadata": {
        "colab": {
          "base_uri": "https://localhost:8080/"
        },
        "id": "JpuhOiwW_BMa",
        "outputId": "1401b381-29e0-4bdc-e597-25d148fdf67a"
      },
      "execution_count": null,
      "outputs": [
        {
          "output_type": "stream",
          "name": "stdout",
          "text": [
            "Mode: 114\n"
          ]
        }
      ]
    },
    {
      "cell_type": "markdown",
      "source": [
        "### **(iii)  Implement a function to calculate the weighted mean of a list of values and their corresponding weights.**"
      ],
      "metadata": {
        "id": "pY1iwy_TG7Cp"
      }
    },
    {
      "cell_type": "code",
      "source": [
        "def calculate_weighted_mean(values, weights):\n",
        "  if not values or not weights or len(values) != len(weights):\n",
        "    return 0\n",
        "\n",
        "  weighted_sum = sum(v * w for v, w in zip(values, weights))\n",
        "  return weighted_sum / sum(weights)\n",
        "\n",
        "weights = [random.random() for _ in range(len(int_list))]\n",
        "print(\"Weighted Mean:\", calculate_weighted_mean(int_list, weights))"
      ],
      "metadata": {
        "colab": {
          "base_uri": "https://localhost:8080/"
        },
        "id": "Ob2x2jQPEKzt",
        "outputId": "93fb7684-c6a8-44e0-9728-95a6d48a9bc3"
      },
      "execution_count": null,
      "outputs": [
        {
          "output_type": "stream",
          "name": "stdout",
          "text": [
            "Weighted Mean: 112.48412329997281\n"
          ]
        }
      ]
    },
    {
      "cell_type": "markdown",
      "source": [
        "### **(iv) Write a Python function to find the geometric mean of a list of positive numbers.**\n",
        "\n"
      ],
      "metadata": {
        "id": "OW2euwXbHJT2"
      }
    },
    {
      "cell_type": "code",
      "source": [
        "def calculate_geometric_mean(numbers):\n",
        "  if not all(x > 0 for x in numbers):\n",
        "    return 0\n",
        "  return statistics.geometric_mean(numbers)\n",
        "print(\"Geometric Mean:\", calculate_geometric_mean(int_list))"
      ],
      "metadata": {
        "colab": {
          "base_uri": "https://localhost:8080/"
        },
        "id": "tDAOjHfTEyxv",
        "outputId": "d9ecf0ad-5921-4ee0-dc09-c32c7a9c4ef9"
      },
      "execution_count": null,
      "outputs": [
        {
          "output_type": "stream",
          "name": "stdout",
          "text": [
            "Geometric Mean: 111.22358195097186\n"
          ]
        }
      ]
    },
    {
      "cell_type": "markdown",
      "source": [
        "### **(v)  Create a program to calculate the harmonic mean of a list of values.**"
      ],
      "metadata": {
        "id": "KFtzhI9JI4Xr"
      }
    },
    {
      "cell_type": "code",
      "source": [
        "def calculate_harmonic_mean(numbers):\n",
        "    if 0 in numbers:\n",
        "        return 0\n",
        "    return statistics.harmonic_mean(numbers)\n",
        "print(\"Harmonic Mean:\", calculate_harmonic_mean(int_list))"
      ],
      "metadata": {
        "colab": {
          "base_uri": "https://localhost:8080/"
        },
        "id": "ISE-X1w9FZin",
        "outputId": "b892265d-8bee-4f23-cedf-ac0673a1c4fe"
      },
      "execution_count": null,
      "outputs": [
        {
          "output_type": "stream",
          "name": "stdout",
          "text": [
            "Harmonic Mean: 110.54968152838785\n"
          ]
        }
      ]
    },
    {
      "cell_type": "markdown",
      "source": [
        "### **(vi) Build a function to determine the midrange of a list of numbers (average of the minimum and maximum).**"
      ],
      "metadata": {
        "id": "aQEFeXTHJKOV"
      }
    },
    {
      "cell_type": "code",
      "source": [
        "def calculate_midrange(numbers):\n",
        "    if not numbers:\n",
        "        return 0\n",
        "    return (min(numbers) + max(numbers)) / 2\n",
        "print(\"Midrange:\", calculate_midrange(int_list))"
      ],
      "metadata": {
        "colab": {
          "base_uri": "https://localhost:8080/"
        },
        "id": "GAq-46BVFj8C",
        "outputId": "78f3679c-8082-42ef-c58a-6e9f60439c82"
      },
      "execution_count": null,
      "outputs": [
        {
          "output_type": "stream",
          "name": "stdout",
          "text": [
            "Midrange: 110.0\n"
          ]
        }
      ]
    },
    {
      "cell_type": "markdown",
      "source": [
        "### **(vii) Implement a Python program to find the trimmed mean of a list, excluding a certain percentage of outliers.**"
      ],
      "metadata": {
        "id": "PRECck2sJSjl"
      }
    },
    {
      "cell_type": "code",
      "source": [
        "def calculate_trimmed_mean(numbers, percentage):\n",
        "    n = len(numbers)\n",
        "    if not n:\n",
        "        return 0\n",
        "    k = int(n * percentage / 200)  # Calculate the number of elements to remove from each end\n",
        "    trimmed_list = sorted(numbers)[k:n-k]  # Remove outliers\n",
        "    return sum(trimmed_list) / len(trimmed_list)\n",
        "print(\"Trimmed Mean (10%):\", calculate_trimmed_mean(int_list, 10))"
      ],
      "metadata": {
        "colab": {
          "base_uri": "https://localhost:8080/"
        },
        "id": "f6nZSTXJFs3f",
        "outputId": "c2c033c3-45bf-48ba-aeb8-563a6379fd65"
      },
      "execution_count": null,
      "outputs": [
        {
          "output_type": "stream",
          "name": "stdout",
          "text": [
            "Trimmed Mean (10%): 112.1\n"
          ]
        }
      ]
    },
    {
      "cell_type": "markdown",
      "source": [
        "### **Question** **2**. **Generate** **a**  **list** **of** **500** **integers** **containing** **values** **between** **200** **to** **300** **and** **store** **it** **in** **the** **variable** `int_list2`.\n",
        "### **After** **generating** **the** **list**, **find** **the** **following**:\n",
        "### **(i) Compare the given list of visualization for the given data:**\n",
        "###     **1**. **Frequency** &**bold text** **Gaussian** **distribution**\n",
        "###     **2**. **Frequency** **smoothened** **KDE** **plot**\n",
        "###     **3**. **Gaussian** **distribution** *&* **smoothened** **KDE** **plot**"
      ],
      "metadata": {
        "id": "UNP6k-xhJ0NU"
      }
    },
    {
      "cell_type": "code",
      "source": [
        "import matplotlib.pyplot as plt\n",
        "import seaborn as sns\n",
        "import numpy as np\n",
        "from scipy.stats import norm\n",
        "import random\n",
        "\n",
        "# Assuming int_list2 is already defined (from the previous code block)\n",
        "int_list3 = [random.randint(200, 300) for _ in range(500)]\n",
        "print(\"int_list  :\", int_list3)\n",
        "\n",
        "# 1. Frequency & Gaussian Distribution\n",
        "plt.figure(figsize=(12, 6))\n",
        "plt.hist(int_list3, bins=30, density=True, alpha=0.6, color='b', label='Frequency')\n",
        "\n",
        "# Fit a normal distribution\n",
        "mu, std = norm.fit(int_list3)\n",
        "xmin, xmax = plt.xlim()\n",
        "x = np.linspace(xmin, xmax, 100)\n",
        "p = norm.pdf(x, mu, std)\n",
        "plt.plot(x, p, 'k', linewidth=2, label='Gaussian Distribution')\n",
        "plt.title('Frequency & Gaussian Distribution')\n",
        "plt.xlabel('Value')\n",
        "plt.ylabel('Frequency/Probability Density')\n",
        "plt.legend()\n",
        "plt.show()\n",
        "\n",
        "\n",
        "# 2. Frequency Smoothened KDE Plot\n",
        "plt.figure(figsize=(12, 6))\n",
        "sns.kdeplot(int_list3, shade=True, color='g', label='KDE')\n",
        "plt.title('Frequency Smoothened KDE Plot')\n",
        "plt.xlabel('Value')\n",
        "plt.ylabel('Density')\n",
        "plt.legend()\n",
        "plt.show()\n",
        "\n",
        "\n",
        "# 3. Gaussian Distribution & Smoothened KDE Plot\n",
        "plt.figure(figsize=(12, 6))\n",
        "sns.kdeplot(int_list3, shade=True, color='r', label='KDE')\n",
        "\n",
        "\n",
        "# Overlay the Gaussian distribution\n",
        "mu, std = norm.fit(int_list3)\n",
        "xmin, xmax = plt.xlim()\n",
        "x = np.linspace(xmin, xmax, 100)\n",
        "p = norm.pdf(x, mu, std)\n",
        "plt.plot(x, p, 'k', linewidth=2, label='Gaussian Distribution')\n",
        "plt.title('Gaussian Distribution & Smoothened KDE Plot')\n",
        "plt.xlabel('Value')\n",
        "plt.ylabel('Density')\n",
        "plt.legend()\n",
        "plt.show()\n",
        "\n",
        "# Comparison:\n",
        "# The Gaussian distribution is a theoretical model while KDE is a non-parametric way to estimate probability density function from the data.\n",
        "# The KDE plot better represents the actual distribution of the data and it captures more detailed features.\n",
        "# The Gaussian distribution provides a simplified representation with fewer parameters to estimate.\n",
        "# The choice between them depends on whether a more precise or an approximated representation of data is needed."
      ],
      "metadata": {
        "colab": {
          "base_uri": "https://localhost:8080/",
          "height": 1000
        },
        "id": "ppCPt3jmF2-h",
        "outputId": "2c663f7e-2316-4a6f-c274-634e070a76d9"
      },
      "execution_count": null,
      "outputs": [
        {
          "output_type": "stream",
          "name": "stdout",
          "text": [
            "int_list  : [269, 209, 226, 259, 239, 230, 276, 211, 290, 258, 269, 268, 294, 227, 246, 261, 231, 211, 281, 277, 279, 241, 270, 282, 259, 280, 299, 276, 279, 276, 246, 206, 245, 230, 238, 289, 224, 275, 279, 292, 283, 280, 293, 298, 300, 222, 241, 234, 286, 226, 238, 295, 277, 294, 205, 282, 243, 221, 271, 282, 204, 272, 261, 284, 258, 295, 224, 236, 250, 259, 300, 260, 241, 205, 207, 220, 286, 236, 276, 281, 234, 264, 200, 216, 203, 247, 241, 245, 291, 224, 245, 272, 201, 291, 244, 239, 206, 212, 231, 264, 214, 282, 229, 256, 201, 275, 203, 268, 274, 221, 201, 279, 235, 253, 248, 221, 266, 282, 267, 204, 290, 260, 283, 247, 293, 285, 292, 213, 255, 222, 281, 201, 255, 204, 225, 295, 283, 240, 286, 263, 263, 262, 235, 247, 250, 266, 297, 269, 271, 232, 248, 283, 275, 291, 233, 293, 282, 282, 227, 291, 247, 202, 227, 231, 268, 291, 244, 222, 204, 232, 276, 230, 265, 261, 261, 235, 226, 210, 224, 231, 246, 243, 226, 273, 243, 244, 274, 282, 227, 265, 249, 239, 300, 291, 255, 273, 247, 207, 259, 295, 256, 282, 219, 296, 242, 215, 285, 201, 226, 296, 232, 252, 249, 215, 215, 284, 201, 275, 204, 200, 221, 261, 285, 220, 213, 222, 286, 200, 238, 291, 250, 235, 271, 215, 285, 271, 231, 218, 211, 202, 211, 204, 288, 284, 225, 224, 258, 245, 253, 291, 218, 226, 219, 298, 209, 222, 225, 246, 276, 218, 258, 221, 208, 216, 268, 295, 294, 264, 259, 221, 252, 260, 211, 221, 222, 246, 226, 281, 206, 280, 252, 286, 239, 293, 243, 245, 214, 280, 298, 258, 249, 232, 200, 248, 209, 233, 205, 295, 252, 228, 205, 232, 292, 290, 240, 268, 236, 276, 221, 270, 213, 226, 225, 276, 278, 268, 257, 284, 228, 271, 237, 295, 287, 294, 221, 284, 229, 243, 241, 235, 276, 251, 201, 220, 241, 277, 286, 264, 245, 288, 225, 265, 282, 253, 265, 202, 200, 245, 291, 249, 218, 296, 274, 278, 295, 220, 234, 201, 223, 252, 267, 201, 237, 205, 246, 213, 218, 242, 213, 225, 226, 256, 285, 299, 268, 276, 278, 284, 298, 293, 254, 220, 242, 278, 259, 244, 290, 267, 252, 218, 249, 202, 250, 245, 281, 238, 298, 248, 273, 277, 217, 235, 221, 230, 200, 289, 266, 282, 277, 233, 269, 262, 290, 201, 220, 215, 290, 245, 221, 209, 266, 253, 279, 283, 266, 285, 286, 271, 244, 279, 275, 200, 256, 234, 201, 262, 211, 261, 203, 265, 219, 263, 287, 223, 279, 250, 267, 228, 254, 219, 213, 213, 257, 221, 201, 297, 239, 222, 252, 287, 267, 246, 204, 296, 202, 251, 276, 290, 258, 260, 280, 280, 215, 238, 217, 252, 246, 233, 262, 228, 203, 213, 291, 250, 239, 219, 221, 250, 271, 282, 211, 259, 289, 266, 276, 271, 203, 274, 232, 202]\n"
          ]
        },
        {
          "output_type": "display_data",
          "data": {
            "text/plain": [
              "<Figure size 1200x600 with 1 Axes>"
            ],
            "image/png": "[encoded data removed]"
          },
          "metadata": {}
        },
        {
          "output_type": "stream",
          "name": "stderr",
          "text": [
            "<ipython-input-13-f74d3f7f770c>:30: FutureWarning: \n",
            "\n",
            "`shade` is now deprecated in favor of `fill`; setting `fill=True`.\n",
            "This will become an error in seaborn v0.14.0; please update your code.\n",
            "\n",
            "  sns.kdeplot(int_list3, shade=True, color='g', label='KDE')\n"
          ]
        },
        {
          "output_type": "display_data",
          "data": {
            "text/plain": [
              "<Figure size 1200x600 with 1 Axes>"
            ],
            "image/png": "[encoded data removed]"
          },
          "metadata": {}
        },
        {
          "output_type": "stream",
          "name": "stderr",
          "text": [
            "<ipython-input-13-f74d3f7f770c>:40: FutureWarning: \n",
            "\n",
            "`shade` is now deprecated in favor of `fill`; setting `fill=True`.\n",
            "This will become an error in seaborn v0.14.0; please update your code.\n",
            "\n",
            "  sns.kdeplot(int_list3, shade=True, color='r', label='KDE')\n"
          ]
        },
        {
          "output_type": "display_data",
          "data": {
            "text/plain": [
              "<Figure size 1200x600 with 1 Axes>"
            ],
            "image/png": "[encoded data removed]"
          },
          "metadata": {}
        }
      ]
    },
    {
      "cell_type": "markdown",
      "source": [
        "### **(ii). Write a Python function to calculate the range of a given list of numbers**"
      ],
      "metadata": {
        "id": "OnF0WwM6TXo_"
      }
    },
    {
      "cell_type": "code",
      "source": [
        "max_value = max(int_list3)\n",
        "min_value = min(int_list3)\n",
        "print(\"int_list\",int_list3)\n",
        "print(\"Maximum value:\", max_value)\n",
        "print(\"Minimum value:\", min_value)\n",
        "\n",
        "def calculate_range(numbers):\n",
        "    if not numbers:\n",
        "        return 0  # Handle empty list case\n",
        "    return max(numbers) - min(numbers)\n",
        "print(\"Range:\", calculate_range(int_list3))\n"
      ],
      "metadata": {
        "colab": {
          "base_uri": "https://localhost:8080/"
        },
        "id": "Ch4dQyT-TtwJ",
        "outputId": "8c8a2d5f-8449-4f0e-a706-54bfdcae7e7f"
      },
      "execution_count": null,
      "outputs": [
        {
          "output_type": "stream",
          "name": "stdout",
          "text": [
            "int_list [269, 209, 226, 259, 239, 230, 276, 211, 290, 258, 269, 268, 294, 227, 246, 261, 231, 211, 281, 277, 279, 241, 270, 282, 259, 280, 299, 276, 279, 276, 246, 206, 245, 230, 238, 289, 224, 275, 279, 292, 283, 280, 293, 298, 300, 222, 241, 234, 286, 226, 238, 295, 277, 294, 205, 282, 243, 221, 271, 282, 204, 272, 261, 284, 258, 295, 224, 236, 250, 259, 300, 260, 241, 205, 207, 220, 286, 236, 276, 281, 234, 264, 200, 216, 203, 247, 241, 245, 291, 224, 245, 272, 201, 291, 244, 239, 206, 212, 231, 264, 214, 282, 229, 256, 201, 275, 203, 268, 274, 221, 201, 279, 235, 253, 248, 221, 266, 282, 267, 204, 290, 260, 283, 247, 293, 285, 292, 213, 255, 222, 281, 201, 255, 204, 225, 295, 283, 240, 286, 263, 263, 262, 235, 247, 250, 266, 297, 269, 271, 232, 248, 283, 275, 291, 233, 293, 282, 282, 227, 291, 247, 202, 227, 231, 268, 291, 244, 222, 204, 232, 276, 230, 265, 261, 261, 235, 226, 210, 224, 231, 246, 243, 226, 273, 243, 244, 274, 282, 227, 265, 249, 239, 300, 291, 255, 273, 247, 207, 259, 295, 256, 282, 219, 296, 242, 215, 285, 201, 226, 296, 232, 252, 249, 215, 215, 284, 201, 275, 204, 200, 221, 261, 285, 220, 213, 222, 286, 200, 238, 291, 250, 235, 271, 215, 285, 271, 231, 218, 211, 202, 211, 204, 288, 284, 225, 224, 258, 245, 253, 291, 218, 226, 219, 298, 209, 222, 225, 246, 276, 218, 258, 221, 208, 216, 268, 295, 294, 264, 259, 221, 252, 260, 211, 221, 222, 246, 226, 281, 206, 280, 252, 286, 239, 293, 243, 245, 214, 280, 298, 258, 249, 232, 200, 248, 209, 233, 205, 295, 252, 228, 205, 232, 292, 290, 240, 268, 236, 276, 221, 270, 213, 226, 225, 276, 278, 268, 257, 284, 228, 271, 237, 295, 287, 294, 221, 284, 229, 243, 241, 235, 276, 251, 201, 220, 241, 277, 286, 264, 245, 288, 225, 265, 282, 253, 265, 202, 200, 245, 291, 249, 218, 296, 274, 278, 295, 220, 234, 201, 223, 252, 267, 201, 237, 205, 246, 213, 218, 242, 213, 225, 226, 256, 285, 299, 268, 276, 278, 284, 298, 293, 254, 220, 242, 278, 259, 244, 290, 267, 252, 218, 249, 202, 250, 245, 281, 238, 298, 248, 273, 277, 217, 235, 221, 230, 200, 289, 266, 282, 277, 233, 269, 262, 290, 201, 220, 215, 290, 245, 221, 209, 266, 253, 279, 283, 266, 285, 286, 271, 244, 279, 275, 200, 256, 234, 201, 262, 211, 261, 203, 265, 219, 263, 287, 223, 279, 250, 267, 228, 254, 219, 213, 213, 257, 221, 201, 297, 239, 222, 252, 287, 267, 246, 204, 296, 202, 251, 276, 290, 258, 260, 280, 280, 215, 238, 217, 252, 246, 233, 262, 228, 203, 213, 291, 250, 239, 219, 221, 250, 271, 282, 211, 259, 289, 266, 276, 271, 203, 274, 232, 202]\n",
            "Maximum value: 300\n",
            "Minimum value: 200\n",
            "Range: 100\n"
          ]
        }
      ]
    },
    {
      "cell_type": "markdown",
      "source": [
        "### **(iii).  Create a program to find the variance and standard deviation of  list of numbers**"
      ],
      "metadata": {
        "id": "nqzw7wtlXLDL"
      }
    },
    {
      "cell_type": "code",
      "source": [
        "import math\n",
        "def calculate_variance(numbers):\n",
        "    n = len(numbers)\n",
        "    if n <= 1:\n",
        "        return 0  # Variance is undefined for a single element or empty list\n",
        "\n",
        "    mean = sum(numbers) / n\n",
        "    variance = sum((x - mean) ** 2 for x in numbers) / (n -1)\n",
        "    return variance\n",
        "\n",
        "def calculate_std_dev(numbers):\n",
        "    variance = calculate_variance(numbers)\n",
        "    return math.sqrt(variance)\n",
        "\n",
        "print(\"Variance:\", calculate_variance(int_list3))\n",
        "print(\"Standard Deviation:\", calculate_std_dev(int_list3))"
      ],
      "metadata": {
        "colab": {
          "base_uri": "https://localhost:8080/"
        },
        "id": "xzimN9d3Vsnp",
        "outputId": "ee52a943-be5f-404a-8447-73dd25277d8f"
      },
      "execution_count": null,
      "outputs": [
        {
          "output_type": "stream",
          "name": "stdout",
          "text": [
            "Variance: 859.6178116232469\n",
            "Standard Deviation: 29.319239615365998\n"
          ]
        }
      ]
    },
    {
      "cell_type": "markdown",
      "source": [
        "### **(iv). Implement a function to compute the interquartile range (IQR) of a list of values.**"
      ],
      "metadata": {
        "id": "PPPW4tZBX6Bo"
      }
    },
    {
      "cell_type": "code",
      "source": [
        "def calculate_iqr(numbers):\n",
        "    if not numbers:\n",
        "        return 0\n",
        "    numbers.sort()\n",
        "    n = len(numbers)\n",
        "    q1_index = (n + 1) // 4\n",
        "    q3_index = 3 * (n + 1) // 4\n",
        "\n",
        "    if n % 2 == 0:\n",
        "      q1 = (numbers[q1_index - 1] + numbers[q1_index]) / 2\n",
        "      q3 = (numbers[q3_index - 1] + numbers[q3_index]) / 2\n",
        "    else:\n",
        "      q1 = numbers[q1_index - 1]\n",
        "      q3 = numbers[q3_index - 1]\n",
        "\n",
        "    iqr = q3 - q1\n",
        "    return iqr\n",
        "print(\"int_list :\",int_list3)\n",
        "print(\"IQR:\", calculate_iqr(int_list3))"
      ],
      "metadata": {
        "colab": {
          "base_uri": "https://localhost:8080/"
        },
        "id": "th1_dY2mXfH8",
        "outputId": "2ea3a094-c5c0-4c53-d6c7-fb48f71186d6"
      },
      "execution_count": null,
      "outputs": [
        {
          "output_type": "stream",
          "name": "stdout",
          "text": [
            "int_list : [200, 200, 200, 200, 200, 200, 200, 201, 201, 201, 201, 201, 201, 201, 201, 201, 201, 201, 201, 202, 202, 202, 202, 202, 202, 203, 203, 203, 203, 203, 204, 204, 204, 204, 204, 204, 204, 205, 205, 205, 205, 205, 206, 206, 206, 207, 207, 208, 209, 209, 209, 209, 210, 211, 211, 211, 211, 211, 211, 211, 212, 213, 213, 213, 213, 213, 213, 213, 213, 214, 214, 215, 215, 215, 215, 215, 215, 216, 216, 217, 217, 218, 218, 218, 218, 218, 218, 219, 219, 219, 219, 219, 220, 220, 220, 220, 220, 220, 221, 221, 221, 221, 221, 221, 221, 221, 221, 221, 221, 221, 221, 222, 222, 222, 222, 222, 222, 222, 223, 223, 224, 224, 224, 224, 224, 225, 225, 225, 225, 225, 225, 226, 226, 226, 226, 226, 226, 226, 226, 226, 227, 227, 227, 227, 228, 228, 228, 228, 229, 229, 230, 230, 230, 230, 231, 231, 231, 231, 231, 232, 232, 232, 232, 232, 232, 233, 233, 233, 233, 234, 234, 234, 234, 235, 235, 235, 235, 235, 235, 236, 236, 236, 237, 237, 238, 238, 238, 238, 238, 239, 239, 239, 239, 239, 239, 240, 240, 241, 241, 241, 241, 241, 241, 242, 242, 242, 243, 243, 243, 243, 243, 244, 244, 244, 244, 244, 245, 245, 245, 245, 245, 245, 245, 245, 245, 246, 246, 246, 246, 246, 246, 246, 246, 247, 247, 247, 247, 247, 248, 248, 248, 248, 249, 249, 249, 249, 249, 250, 250, 250, 250, 250, 250, 250, 251, 251, 252, 252, 252, 252, 252, 252, 252, 252, 253, 253, 253, 253, 254, 254, 255, 255, 255, 256, 256, 256, 256, 257, 257, 258, 258, 258, 258, 258, 258, 259, 259, 259, 259, 259, 259, 259, 260, 260, 260, 260, 261, 261, 261, 261, 261, 261, 262, 262, 262, 262, 263, 263, 263, 264, 264, 264, 264, 265, 265, 265, 265, 265, 266, 266, 266, 266, 266, 266, 267, 267, 267, 267, 267, 268, 268, 268, 268, 268, 268, 268, 269, 269, 269, 269, 270, 270, 271, 271, 271, 271, 271, 271, 271, 271, 272, 272, 273, 273, 273, 274, 274, 274, 274, 275, 275, 275, 275, 275, 276, 276, 276, 276, 276, 276, 276, 276, 276, 276, 276, 276, 277, 277, 277, 277, 277, 278, 278, 278, 278, 279, 279, 279, 279, 279, 279, 279, 280, 280, 280, 280, 280, 280, 281, 281, 281, 281, 281, 282, 282, 282, 282, 282, 282, 282, 282, 282, 282, 282, 282, 283, 283, 283, 283, 283, 284, 284, 284, 284, 284, 284, 285, 285, 285, 285, 285, 285, 286, 286, 286, 286, 286, 286, 286, 287, 287, 287, 288, 288, 289, 289, 289, 290, 290, 290, 290, 290, 290, 290, 291, 291, 291, 291, 291, 291, 291, 291, 291, 291, 292, 292, 292, 293, 293, 293, 293, 293, 294, 294, 294, 294, 295, 295, 295, 295, 295, 295, 295, 295, 296, 296, 296, 296, 297, 297, 298, 298, 298, 298, 298, 299, 299, 300, 300, 300]\n",
            "IQR: 51.5\n"
          ]
        }
      ]
    },
    {
      "cell_type": "markdown",
      "source": [
        "### **(v). Build a program to calculate the coefficient of variation for a dataset**"
      ],
      "metadata": {
        "id": "rsjennOEcUf6"
      }
    },
    {
      "cell_type": "code",
      "source": [
        "def calculate_coefficient_of_variation(numbers):\n",
        "    \"\"\"\n",
        "    Calculates the coefficient of variation (CV) for a list of numbers.\n",
        "\n",
        "    Args:\n",
        "        numbers: A list of numerical values.\n",
        "\n",
        "    Returns:\n",
        "        The coefficient of variation (CV) as a percentage, or 0 if the list is empty or the mean is zero.\n",
        "    \"\"\"\n",
        "    if not numbers:\n",
        "        return 0\n",
        "\n",
        "    mean = sum(numbers) / len(numbers)\n",
        "    if mean == 0:\n",
        "      return 0\n",
        "\n",
        "    std_dev = calculate_std_dev(numbers)  # Assuming calculate_std_dev is defined as in previous code\n",
        "    cv = (std_dev / mean) * 100\n",
        "    return cv\n",
        "\n",
        "# Example usage (using int_list3 from the provided code):\n",
        "cv = calculate_coefficient_of_variation(int_list3)\n",
        "print(\"Coefficient of Variation:\", cv)"
      ],
      "metadata": {
        "colab": {
          "base_uri": "https://localhost:8080/"
        },
        "id": "WjOJIUdZYLZa",
        "outputId": "9080dcc7-9c96-4eda-95c4-d1f4d42be4e5"
      },
      "execution_count": null,
      "outputs": [
        {
          "output_type": "stream",
          "name": "stdout",
          "text": [
            "Coefficient of Variation: 11.721506890508206\n"
          ]
        }
      ]
    },
    {
      "cell_type": "markdown",
      "source": [
        "### **(vi). Write a python function to find the mean absolute deviation (MAD) of a list of numbers.**"
      ],
      "metadata": {
        "id": "4BXRCznpclsj"
      }
    },
    {
      "cell_type": "code",
      "source": [
        "def calculate_mad(numbers):\n",
        "    if not numbers:\n",
        "        return 0\n",
        "\n",
        "    mean = sum(numbers) / len(numbers)\n",
        "    mad = sum(abs(x - mean) for x in numbers) / len(numbers)\n",
        "    return mad\n",
        "\n",
        "print(\"MAD:\", calculate_mad(int_list3))"
      ],
      "metadata": {
        "colab": {
          "base_uri": "https://localhost:8080/"
        },
        "id": "CqXVJ_OmcdUc",
        "outputId": "9262f515-bfc0-43af-dc57-a2e3ab42ffce"
      },
      "execution_count": null,
      "outputs": [
        {
          "output_type": "stream",
          "name": "stdout",
          "text": [
            "MAD: 25.470112000000082\n"
          ]
        }
      ]
    },
    {
      "cell_type": "markdown",
      "source": [
        "### **(vii).  Create a program to calculate the quartile deviation of a list of values.**"
      ],
      "metadata": {
        "id": "xpHUoEJDc_oS"
      }
    },
    {
      "cell_type": "code",
      "source": [
        "def calculate_quartile_deviation(numbers):\n",
        "    \"\"\"\n",
        "    Calculates the quartile deviation (semi-interquartile range) of a list of numbers.\n",
        "\n",
        "    Args:\n",
        "        numbers: A list of numerical values.\n",
        "\n",
        "    Returns:\n",
        "        The quartile deviation, or 0 if the list is empty or has fewer than 2 unique values.\n",
        "    \"\"\"\n",
        "    if not numbers or len(set(numbers)) < 2:\n",
        "        return 0\n",
        "\n",
        "    numbers.sort()\n",
        "    n = len(numbers)\n",
        "    q1_index = (n + 1) // 4\n",
        "    q3_index = 3 * (n + 1) // 4\n",
        "\n",
        "    if n % 2 == 0:\n",
        "        q1 = (numbers[q1_index - 1] + numbers[q1_index]) / 2\n",
        "        q3 = (numbers[q3_index - 1] + numbers[q3_index]) / 2\n",
        "    else:\n",
        "        q1 = numbers[q1_index - 1]\n",
        "        q3 = numbers[q3_index - 1]\n",
        "\n",
        "    quartile_deviation = (q3 - q1) / 2\n",
        "    return quartile_deviation\n",
        "\n",
        "print(\"Quartile Deviation:\", calculate_quartile_deviation(int_list3))"
      ],
      "metadata": {
        "colab": {
          "base_uri": "https://localhost:8080/"
        },
        "id": "HqgYAFYAc2RW",
        "outputId": "695f659d-2f2d-4f6c-9d0e-198f085619d8"
      },
      "execution_count": null,
      "outputs": [
        {
          "output_type": "stream",
          "name": "stdout",
          "text": [
            "Quartile Deviation: 25.75\n"
          ]
        }
      ]
    },
    {
      "cell_type": "markdown",
      "source": [
        "### **(viii). Implement a function to find the range-based coefficient of dispersion for a data set.**"
      ],
      "metadata": {
        "id": "nbMH5EcidViI"
      }
    },
    {
      "cell_type": "code",
      "source": [
        "def calculate_range_based_coefficient_of_dispersion(numbers):\n",
        "    \"\"\"\n",
        "    Calculates the range-based coefficient of dispersion for a dataset.\n",
        "\n",
        "    Args:\n",
        "      numbers: A list of numerical values.\n",
        "\n",
        "    Returns:\n",
        "      The range-based coefficient of dispersion, or 0 if the list is empty or the range is zero.\n",
        "    \"\"\"\n",
        "    if not numbers:\n",
        "        return 0\n",
        "\n",
        "    data_range = max(numbers) - min(numbers)\n",
        "    if data_range == 0:\n",
        "        return 0\n",
        "\n",
        "    mean = sum(numbers) / len(numbers)\n",
        "    if mean == 0:\n",
        "      return 0\n",
        "\n",
        "    coefficient_of_dispersion = data_range / mean\n",
        "    return coefficient_of_dispersion\n",
        "\n",
        "print(\"Range-based Coefficient of Dispersion:\", calculate_range_based_coefficient_of_dispersion(int_list3))"
      ],
      "metadata": {
        "colab": {
          "base_uri": "https://localhost:8080/"
        },
        "id": "cuwCoqRKdRa2",
        "outputId": "ff8a7e53-0526-4f1d-9c76-039761ce8f71"
      },
      "execution_count": null,
      "outputs": [
        {
          "output_type": "stream",
          "name": "stdout",
          "text": [
            "Range-based Coefficient of Dispersion: 0.39978891145475187\n"
          ]
        }
      ]
    },
    {
      "cell_type": "markdown",
      "source": [
        "### **Question 3.  Write a Python class representing a discrete random variable with methods to calculate its expected value and variance.**"
      ],
      "metadata": {
        "id": "UPGwLjMAdxBO"
      }
    },
    {
      "cell_type": "code",
      "source": [
        "class DiscreteRandomVariable:\n",
        "    def __init__(self, values, probabilities):\n",
        "        \"\"\"\n",
        "        Initializes the discrete random variable with its possible values and corresponding probabilities.\n",
        "\n",
        "        :param values: A list of possible values the random variable can take.\n",
        "        :param probabilities: A list of probabilities corresponding to each value in `values`.\n",
        "        \"\"\"\n",
        "        if len(values) != len(probabilities):\n",
        "            raise ValueError(\"The length of values and probabilities must be the same.\")\n",
        "        if not all(0 <= p <= 1 for p in probabilities):\n",
        "            raise ValueError(\"Probabilities must be between 0 and 1.\")\n",
        "        if abs(sum(probabilities) - 1) > 1e-6:\n",
        "            raise ValueError(\"The sum of probabilities must be 1.\")\n",
        "\n",
        "        self.values = values\n",
        "        self.probabilities = probabilities\n",
        "\n",
        "    def expected_value(self):\n",
        "        \"\"\"\n",
        "        Calculates the expected value (mean) of the discrete random variable.\n",
        "\n",
        "        :return: The expected value.\n",
        "        \"\"\"\n",
        "        return sum(v * p for v, p in zip(self.values, self.probabilities))\n",
        "\n",
        "    def variance(self):\n",
        "        \"\"\"\n",
        "        Calculates the variance of the discrete random variable.\n",
        "\n",
        "        :return: The variance.\n",
        "        \"\"\"\n",
        "        mean = self.expected_value()\n",
        "        return sum(p * (v - mean) ** 2 for v, p in zip(self.values, self.probabilities))\n",
        "\n",
        "# Example usage\n",
        "values = [1, 2, 3, 4]\n",
        "probabilities = [0.1, 0.2, 0.4, 0.3]\n",
        "\n",
        "random_variable = DiscreteRandomVariable(values, probabilities)\n",
        "print(\"Expected Value:\", random_variable.expected_value())\n",
        "print(\"Variance:\", random_variable.variance())\n"
      ],
      "metadata": {
        "colab": {
          "base_uri": "https://localhost:8080/"
        },
        "id": "gudwED7id7my",
        "outputId": "b3f6c8c6-2f0d-47b2-eb9f-25deb25f4f0a"
      },
      "execution_count": null,
      "outputs": [
        {
          "output_type": "stream",
          "name": "stdout",
          "text": [
            "Expected Value: 2.9000000000000004\n",
            "Variance: 0.8900000000000001\n"
          ]
        }
      ]
    },
    {
      "cell_type": "markdown",
      "source": [
        "### **Question 4. Implement a program to simulate the rolling of a fair six-sided die and calculate the expected value and variance of the outcomes.**"
      ],
      "metadata": {
        "id": "FbTzqBgphzRZ"
      }
    },
    {
      "cell_type": "code",
      "source": [
        "import random\n",
        "\n",
        "def simulate_die_roll(num_trials):\n",
        "    outcomes = []\n",
        "    for _ in range(num_trials):\n",
        "        outcomes.append(random.randint(1, 6))\n",
        "    return outcomes\n",
        "\n",
        "def calculate_expected_value(outcomes):\n",
        "    return sum(outcomes) / len(outcomes)\n",
        "\n",
        "def calculate_variance(outcomes):\n",
        "    mean = calculate_expected_value(outcomes)\n",
        "    squared_differences = [(x - mean) ** 2 for x in outcomes]\n",
        "    return sum(squared_differences) / len(outcomes)\n",
        "\n",
        "# Simulate 10,000 die rolls\n",
        "num_trials = 10000\n",
        "outcomes = simulate_die_roll(num_trials)\n",
        "\n",
        "# Calculate expected value and variance\n",
        "expected_value = calculate_expected_value(outcomes)\n",
        "variance = calculate_variance(outcomes)\n",
        "\n",
        "print(f\"Expected Value (after {num_trials} trials): {expected_value}\")\n",
        "print(f\"Variance (after {num_trials} trials): {variance}\")"
      ],
      "metadata": {
        "colab": {
          "base_uri": "https://localhost:8080/"
        },
        "id": "FhkxtaF0hloq",
        "outputId": "66e97a5f-94f0-46ba-add0-d5945b554614"
      },
      "execution_count": null,
      "outputs": [
        {
          "output_type": "stream",
          "name": "stdout",
          "text": [
            "Expected Value (after 10000 trials): 3.5048\n",
            "Variance (after 10000 trials): 2.915776960000072\n"
          ]
        }
      ]
    },
    {
      "cell_type": "markdown",
      "source": [
        "### **Question 5. Create a Python function to generate random samples from a given probability distribution (e.g.,binomial, Poisson) and calculate their mean and variance.**"
      ],
      "metadata": {
        "id": "DCqEMzdliA1X"
      }
    },
    {
      "cell_type": "code",
      "source": [
        "from scipy.stats import binom, poisson\n",
        "import numpy as np\n",
        "\n",
        "def generate_samples(distribution, params, size=1000):\n",
        "    \"\"\"\n",
        "    Generates random samples from a given probability distribution and calculates their mean and variance.\n",
        "\n",
        "    Args:\n",
        "        distribution: The name of the distribution (e.g., 'binomial', 'poisson').\n",
        "        params: A dictionary of parameters for the distribution (e.g., {'n': 10, 'p': 0.5} for binomial).\n",
        "        size: The number of samples to generate.\n",
        "\n",
        "    Returns:\n",
        "        A dictionary containing the samples, their mean, and their variance.\n",
        "    \"\"\"\n",
        "    if distribution == 'binomial':\n",
        "        n = params.get('n')\n",
        "        p = params.get('p')\n",
        "        if n is None or p is None:\n",
        "            raise ValueError(\"For binomial distribution, provide 'n' and 'p'\")\n",
        "        samples = binom.rvs(n=n, p=p, size=size)\n",
        "    elif distribution == 'poisson':\n",
        "        mu = params.get('mu')\n",
        "        if mu is None:\n",
        "            raise ValueError(\"For poisson distribution, provide 'mu'\")\n",
        "        samples = poisson.rvs(mu=mu, size=size)\n",
        "    else:\n",
        "        raise ValueError(\"Unsupported distribution type.\")\n",
        "\n",
        "    return {\n",
        "        'samples': samples,\n",
        "        'mean': np.mean(samples),\n",
        "        'variance': np.var(samples)\n",
        "    }\n",
        "\n",
        "# Example usage (Binomial Distribution):\n",
        "binomial_params = {'n': 10, 'p': 0.6}\n",
        "binomial_results = generate_samples('binomial', binomial_params)\n",
        "print(\"Binomial Distribution Results:\")\n",
        "print(binomial_results)\n",
        "\n",
        "# Example usage (Poisson Distribution):\n",
        "poisson_params = {'mu': 5}\n",
        "poisson_results = generate_samples('poisson', poisson_params)\n",
        "print(\"\\nPoisson Distribution Results:\")\n",
        "poisson_results"
      ],
      "metadata": {
        "colab": {
          "base_uri": "https://localhost:8080/"
        },
        "id": "90cx4dBFh9Ry",
        "outputId": "63063e9e-8fa8-4080-a6f5-681518be68e4"
      },
      "execution_count": null,
      "outputs": [
        {
          "output_type": "stream",
          "name": "stdout",
          "text": [
            "Binomial Distribution Results:\n",
            "{'samples': array([ 4,  7,  8,  3,  9, 10,  7,  6,  6,  3,  5,  8,  9,  8,  5,  5,  4,\n",
            "        6,  6,  7,  6,  8,  6,  6,  6,  8,  7,  6,  5,  5,  6,  6,  8,  7,\n",
            "        6,  7,  9,  6,  6,  6,  7,  3,  5,  6,  7,  5,  4,  7,  8,  6,  6,\n",
            "        7,  7,  7,  7,  4,  5,  4,  4,  7,  4,  6,  5,  4,  6,  4,  6,  6,\n",
            "        6,  3,  5,  7,  9,  5,  8,  6,  7,  8,  8,  6,  7,  4,  6,  5,  4,\n",
            "        7,  2,  4,  7,  7,  6,  7,  7,  5,  6,  6,  7,  7,  5,  5,  7,  5,\n",
            "        4,  5,  7,  7,  5,  6,  5,  5,  6,  6,  4,  5,  5,  5,  7,  7,  6,\n",
            "        6,  7,  8,  8,  7,  5,  4,  5,  6,  8,  7,  5,  6,  5,  6,  9,  7,\n",
            "        7,  6,  6,  6,  7,  8,  7,  3,  5,  5,  5,  6,  6,  7,  7,  8,  4,\n",
            "        6,  6,  7,  6,  5,  7,  5,  7,  6,  7,  7,  6,  6,  7,  4,  4,  8,\n",
            "        6,  6,  4,  7,  6,  6,  5,  6,  8,  6,  6,  7,  5,  5,  6,  6,  3,\n",
            "        6, 10,  4, 10,  5,  6,  8,  5,  6,  7,  8,  2,  5,  8,  6,  9,  7,\n",
            "        5,  5,  8,  7,  5,  5,  4,  8,  6,  8,  8,  6,  6,  6,  6,  4,  5,\n",
            "        6,  7,  7,  5,  9,  3,  8,  6,  6,  4,  3,  6,  4,  4,  5,  5,  7,\n",
            "        5,  9,  6,  8,  8,  6,  7,  5,  5,  7,  7,  5,  8,  6,  8,  5,  5,\n",
            "        7,  7,  6,  7,  8,  8,  8,  9,  9,  5,  9,  5,  6,  5,  4,  4,  5,\n",
            "        7,  6,  7,  7,  5,  6,  6,  8,  7,  5,  5,  4,  8,  5,  7,  3,  8,\n",
            "        7,  7,  6,  5,  6,  6,  5,  6,  5,  6,  6,  5,  6,  7,  6,  6,  6,\n",
            "        4,  7,  6,  8,  8,  5,  8,  7,  9,  9,  5,  3,  9,  5,  5,  5,  7,\n",
            "        7,  6,  8,  6,  7,  8,  6,  8,  5,  4,  7,  5,  5,  7,  8,  4,  7,\n",
            "        4,  5,  6,  6,  5,  5,  7,  7,  7,  3,  8,  7,  8,  4,  3,  7,  7,\n",
            "        5,  4,  8,  2,  8,  8,  5,  9,  8,  4,  7,  7,  5,  7,  3,  9,  4,\n",
            "        7,  7,  3,  4,  5,  6,  9,  8,  6,  6,  7,  6,  7,  5,  8,  6,  5,\n",
            "        6,  6,  8,  6,  5,  8,  7,  7,  7,  7,  5,  5,  4,  6,  6,  5,  8,\n",
            "        5,  5,  3,  5,  5,  6,  2,  6,  8,  6,  8,  8,  8,  6,  8,  6,  8,\n",
            "        6,  4,  7,  6,  6,  7,  9,  7,  7,  6,  7,  6,  7,  6,  9,  5,  9,\n",
            "        3,  8,  5,  6,  5,  8,  9,  6,  8,  8,  4,  6,  7,  7,  5,  8,  7,\n",
            "        5,  4,  6,  7,  5,  6,  7,  4,  6,  7,  8,  7,  6,  4,  9,  6,  5,\n",
            "        5,  9,  5,  8,  5,  7,  8,  7,  6,  4,  5,  8,  5,  5,  7,  9,  6,\n",
            "        4,  6,  6,  9,  4,  5,  8,  7,  7,  6,  8,  5,  9,  5,  6,  8,  7,\n",
            "        5,  7,  7,  7,  8,  6,  5,  8,  4,  5,  8,  6,  5,  8,  9,  2,  5,\n",
            "        8,  7,  5,  4,  7,  6,  8,  4,  7,  4,  4,  8,  8,  5,  8,  7,  8,\n",
            "        5,  7,  3,  6,  5,  6,  8,  4,  7,  8,  5,  3,  9,  2,  4,  4,  6,\n",
            "        9,  8,  5,  9,  4,  7,  6,  7,  4,  4,  4,  7,  6,  7,  5,  5,  6,\n",
            "        7,  6,  7,  3,  7,  6,  5,  4,  5,  6,  4,  3,  7,  7,  7,  3,  3,\n",
            "        4,  6,  6,  5,  5,  6,  7,  7,  8,  5,  7,  4,  3,  7,  8,  4,  8,\n",
            "        6,  6,  7,  5,  4,  5,  4,  7,  6,  6,  7,  7,  4,  4,  4,  7,  7,\n",
            "        6,  6,  4,  6,  5,  8,  6,  6,  4,  5,  8,  6,  7,  5,  5,  4,  4,\n",
            "        4,  4,  8,  9,  5,  6,  9,  8,  7,  9,  4,  6,  6,  6,  6,  3,  7,\n",
            "        6,  7,  5,  6,  7,  3,  4,  6,  6,  4,  5,  8,  6,  8,  8,  6,  8,\n",
            "        6,  5,  8,  7, 10,  6,  6,  4,  4,  7,  8,  4,  6,  5,  3,  7,  7,\n",
            "        4,  4,  5,  3,  7,  7,  4,  6,  6,  8,  7,  6,  4,  5,  7,  7,  9,\n",
            "        7,  7,  7,  3,  7,  6,  8,  6,  6,  5,  6,  4,  8,  7,  5,  5,  4,\n",
            "        2,  6,  8,  7,  6,  8,  7,  9,  5,  6,  4,  3,  7,  6,  6,  7,  6,\n",
            "        5,  5,  6,  5,  5,  5,  6,  4,  3,  7,  4,  5,  7,  5,  9,  5,  7,\n",
            "       10,  7,  5,  3,  7,  5,  5,  4,  8,  4,  3,  7,  3,  4,  5,  7,  5,\n",
            "        6,  8,  5,  4,  5,  6,  5,  4,  7,  5,  6,  7,  2,  5,  7,  7,  9,\n",
            "        6,  4,  8,  8,  4,  6,  7,  6,  4,  7,  7,  8,  7,  6,  6,  8,  5,\n",
            "        4,  8,  6,  6,  5,  7,  6,  5,  4,  3,  8,  9,  8,  6,  5,  7,  9,\n",
            "        8,  7,  7,  5,  6,  4,  8,  6,  5,  8,  8,  6,  9,  4,  7,  3,  6,\n",
            "        5,  6,  7,  8,  5,  9,  5,  4,  7,  4,  6,  6,  5,  7,  7,  5,  6,\n",
            "        4,  8,  6,  6,  5,  4,  6,  4,  5,  4,  7,  9,  4,  7,  6,  6,  4,\n",
            "        9,  8,  5,  4,  7,  4,  5,  4,  8,  7,  7,  5,  4,  5,  7,  9,  8,\n",
            "        8,  8,  5,  6,  6,  8,  9,  6,  8,  4,  5,  8,  5,  8,  7,  8,  7,\n",
            "        7,  5,  4,  8,  5,  3,  4,  7,  5,  9,  2,  9,  6,  6,  8,  5,  7,\n",
            "        5,  7,  7,  8,  6,  4,  7,  4,  4,  4,  7,  5,  6,  7,  5,  7,  8,\n",
            "        8,  6,  7,  8,  7,  8,  5,  7,  7,  6,  6,  5,  5,  7,  8,  6,  8,\n",
            "        7,  5,  8,  6,  5,  6,  6,  7,  6,  6,  7,  5,  6,  7,  6,  5,  8,\n",
            "        6,  6,  9,  6,  7,  4,  7,  5,  5,  3,  6,  5,  8,  6]), 'mean': 6.072, 'variance': 2.4328160000000003}\n",
            "\n",
            "Poisson Distribution Results:\n"
          ]
        },
        {
          "output_type": "execute_result",
          "data": {
            "text/plain": [
              "{'samples': array([ 6,  8,  4,  5,  7,  7,  6,  3,  9,  7,  4,  4,  6,  2,  3,  5,  6,\n",
              "         3,  7, 12,  5,  3,  6,  3,  3,  9,  5,  5,  7,  4,  6,  3,  6,  2,\n",
              "         5,  6,  8,  4,  4,  3,  4, 11,  4,  5,  7,  0,  5,  4,  4,  4,  4,\n",
              "         6,  5,  4,  0,  4,  7,  2,  5,  6,  5,  1,  3,  3,  7,  6,  8,  5,\n",
              "         3,  6,  6,  4,  9,  5,  2,  4,  7,  2,  6,  4,  4,  4,  4,  7,  7,\n",
              "         3,  8,  0, 10,  5, 10,  5,  2,  3,  5,  5,  8, 10,  5,  1,  5,  5,\n",
              "         3,  4,  8,  2,  1,  5,  3,  4,  6,  4,  6,  6,  6,  6,  7,  5,  5,\n",
              "         1,  7,  4,  4,  5,  5, 11,  6,  4,  5,  3,  4,  7,  8,  4,  6,  3,\n",
              "         2,  2,  9,  5,  7,  7,  7,  4,  4,  5,  6, 11,  5,  7,  5,  2,  3,\n",
              "         5,  7,  9,  7,  7,  3,  2,  4,  7, 10,  2,  3,  2,  4,  4,  2,  5,\n",
              "         3, 11,  1,  4,  2,  7,  6,  3,  8,  5,  4,  5,  7,  3,  5, 11,  5,\n",
              "         5,  9,  4,  6,  4,  4,  9,  7,  4,  5,  6,  8,  5,  5,  6,  2,  6,\n",
              "         5,  5,  3,  9,  3,  8,  2,  4,  5,  4,  4,  8,  2,  5,  2,  6,  4,\n",
              "         4,  4,  6,  6,  5,  5,  5,  4,  5,  5,  3,  7,  6,  6,  3,  6,  6,\n",
              "         9,  6,  3,  5,  5,  4,  4,  6,  5,  5,  6,  1,  4,  8,  4,  5,  8,\n",
              "         3, 10,  9,  8,  4,  3,  6,  5,  3,  3,  8,  4,  7,  6,  6,  6,  5,\n",
              "         2,  5,  2, 13,  8,  2,  5,  5,  4,  4,  7,  3,  8,  6,  5,  4, 10,\n",
              "         6,  5,  1,  7,  4,  7,  5,  5, 12,  3,  6,  5,  7,  1,  5,  5,  5,\n",
              "         6,  1,  5,  2,  2,  2,  6,  6,  4,  4,  7,  9,  3,  3,  4,  5,  9,\n",
              "         8,  2,  3,  6,  5,  4,  4,  3,  5,  2,  2, 10,  6,  4,  3,  2,  5,\n",
              "         7,  1,  4,  5,  5,  6,  3,  8,  5,  5,  1,  9,  4,  8,  5, 11,  4,\n",
              "         5,  9,  3,  5,  6,  9,  4,  5,  7,  7,  4,  5,  3,  1,  9,  8,  7,\n",
              "         3,  3,  3,  8,  1,  5,  6,  4,  5,  4,  7, 10,  4,  4, 11,  5,  9,\n",
              "         2,  8,  5,  6,  8,  4,  6,  4,  7,  1,  7,  2,  4,  7,  7,  4,  3,\n",
              "         7,  4,  4,  2,  3,  6,  6, 12, 12,  6,  5,  8,  2,  3,  3,  7,  6,\n",
              "         3,  5,  4,  5,  5,  9,  7,  4,  2,  7,  3,  0,  6,  4,  6,  7,  7,\n",
              "         4,  7,  4,  3,  4,  2,  7,  7,  7,  5,  6,  3,  3,  3,  5,  6, 10,\n",
              "         7,  6,  4,  3,  0,  9,  6,  6,  8,  1,  9,  5,  6,  5,  7,  4,  6,\n",
              "         5,  5,  4,  4,  8,  4,  8,  6,  6,  5,  2, 12, 12,  3,  3,  5,  4,\n",
              "         6,  4,  3,  4,  3,  3,  3,  9, 10,  7,  6,  5,  6,  2,  3,  3,  2,\n",
              "         5,  5, 10,  3,  7,  7,  6,  5,  2,  2,  7,  4,  8,  5,  1,  5,  4,\n",
              "         2,  3,  9,  9,  7,  6,  3,  6,  3,  3,  6,  7,  6,  5,  2,  5,  4,\n",
              "         7,  2,  4,  5,  3,  2,  3,  5,  9,  5,  9,  6,  5,  4,  3,  5,  5,\n",
              "         8,  6,  2,  3,  5,  6,  5,  4,  9,  4,  3,  6,  6,  3,  7,  6,  3,\n",
              "         7,  5,  6,  5,  5,  6,  7,  6,  6,  7,  6,  3,  6,  5,  6,  6, 10,\n",
              "         7,  3,  3,  6,  1,  5,  8,  5,  1,  9,  3,  6,  5,  5,  8,  9,  5,\n",
              "         6,  3,  4,  6,  7,  6,  3,  1,  3,  4,  5,  4,  7,  8,  7,  6,  3,\n",
              "         9,  6,  3,  8,  7,  3,  7,  3,  4,  7,  8,  6,  8,  6,  4,  4,  5,\n",
              "         5,  5,  4,  4,  4,  4,  6,  6,  3,  8,  4,  5,  2,  7,  6,  4,  7,\n",
              "         2,  4,  8, 12,  8,  3,  8,  7,  3,  4,  3,  6,  2,  6,  7,  6,  5,\n",
              "         2,  4,  6,  2,  3,  2,  4,  8,  6,  6,  6,  6,  3,  4,  4,  5,  5,\n",
              "         6,  8,  8,  7,  7,  6, 12,  5,  6,  3, 10,  4,  4,  5, 12,  7,  8,\n",
              "         6,  3,  6,  3,  5,  4,  6,  5, 12,  5,  4,  3,  6,  4, 10,  6,  3,\n",
              "         4,  6,  6,  3,  5,  3,  1,  4,  6,  6,  7,  5,  3,  8,  3,  8,  8,\n",
              "         5,  3,  4,  4,  9,  4,  4,  4,  5,  9,  5,  5,  4,  4,  6,  5,  5,\n",
              "         6,  2,  4,  7,  6,  4,  4,  3,  5,  8, 10,  6,  5,  7,  1,  4,  5,\n",
              "         7,  3,  1,  4,  6,  6, 10,  5,  8,  4,  6,  5,  5,  8,  8,  3,  5,\n",
              "         4,  7,  6,  5,  3,  9,  6,  3,  4,  3,  5,  7,  2,  4,  3,  4,  7,\n",
              "         6,  7,  6,  3,  7, 11,  3,  5,  8,  5,  4,  9,  7,  5,  7,  2,  9,\n",
              "         6,  6,  4,  3,  2,  6,  2,  4,  2,  5,  8,  5,  4,  8,  5,  6,  5,\n",
              "         9,  7,  6,  2,  5,  4,  4,  2,  2,  9,  6,  2,  5,  5,  5,  4, 11,\n",
              "         3,  4,  8,  8,  6,  6,  6,  5,  3,  5,  3, 10,  8,  7,  5,  7,  8,\n",
              "         5,  8,  5,  6,  4,  6, 11,  8,  6,  9,  5,  4,  4,  8,  5,  3,  2,\n",
              "         4,  6,  4,  2,  5,  5,  6,  4,  7,  6,  4,  5,  3,  9,  6,  5,  4,\n",
              "         5,  6,  5,  3,  7,  7,  6,  4,  5,  3,  4,  9,  4,  2,  4,  5,  3,\n",
              "         3,  2,  2, 13,  6,  7,  6,  6,  3, 11,  6,  5,  5,  4,  7,  1,  6,\n",
              "         8,  2,  1,  4,  1,  2,  6,  5,  5,  1,  4,  6,  8,  4,  4,  8,  5,\n",
              "         4,  4,  5,  4,  5,  6,  3,  4,  4,  5,  6,  6,  6,  4,  7,  6,  4,\n",
              "         7,  2,  8,  6,  5,  2,  3,  3,  5,  8,  3,  7,  5,  4]),\n",
              " 'mean': 5.19,\n",
              " 'variance': 5.0379}"
            ]
          },
          "metadata": {},
          "execution_count": 35
        }
      ]
    },
    {
      "cell_type": "markdown",
      "source": [
        "### **Question 6. Write a Python script to generate random numbers from a Gaussian (normal)distribution and compute the mean, variance, and standard deviation of the samples**"
      ],
      "metadata": {
        "id": "3UpAuD12iavS"
      }
    },
    {
      "cell_type": "code",
      "source": [
        "import numpy as np\n",
        "\n",
        "def gaussian_stats(mu, sigma, num_samples):\n",
        "    \"\"\"\n",
        "    Generates random numbers from a Gaussian distribution and computes statistics.\n",
        "\n",
        "    Args:\n",
        "        mu: Mean of the Gaussian distribution.\n",
        "        sigma: Standard deviation of the Gaussian distribution.\n",
        "        num_samples: Number of random samples to generate.\n",
        "\n",
        "    Returns:\n",
        "        A dictionary containing the generated samples, their mean, variance, and standard deviation.\n",
        "    \"\"\"\n",
        "    samples = np.random.normal(loc=mu, scale=sigma, size=num_samples)\n",
        "    return {\n",
        "        'samples': samples,\n",
        "        'mean': np.mean(samples),\n",
        "        'variance': np.var(samples),\n",
        "        'std_dev': np.std(samples)\n",
        "    }\n",
        "\n",
        "# Example usage\n",
        "mu = 0  # Mean\n",
        "sigma = 1  # Standard deviation\n",
        "num_samples = 100  # Number of samples\n",
        "\n",
        "results = gaussian_stats(mu, sigma, num_samples)\n",
        "results"
      ],
      "metadata": {
        "colab": {
          "base_uri": "https://localhost:8080/"
        },
        "id": "CgRTjygliK5h",
        "outputId": "0a613161-fe5d-4ab8-8f76-820c79f910a4"
      },
      "execution_count": null,
      "outputs": [
        {
          "output_type": "execute_result",
          "data": {
            "text/plain": [
              "{'samples': array([-0.60637223, -0.5926583 ,  0.56357366, -0.61392384, -1.15032589,\n",
              "        -1.92901758,  0.56452756,  0.82835119, -1.17007491, -0.02825332,\n",
              "        -0.76751388, -0.08273833, -1.23111728,  0.24905306,  1.12111664,\n",
              "         0.70064034, -0.91313032, -2.06005052,  0.16571952, -0.34124958,\n",
              "         0.72236954, -0.15905219, -1.54139889, -0.22786551, -0.79269904,\n",
              "        -1.22896791, -0.15297422,  0.45751157,  0.05769158, -0.14746777,\n",
              "         1.31648564, -0.08985475,  0.3103419 , -0.08081756,  1.31457575,\n",
              "         1.24751149,  0.4473815 , -0.44587514,  0.74012278,  1.11635984,\n",
              "        -0.46806246,  2.02306265, -0.17154597,  1.60018856, -1.95042212,\n",
              "         0.45827126, -0.19464404,  1.13504698,  0.18545941,  0.49905418,\n",
              "         0.11300998,  1.01374317,  1.02977626,  0.58656081, -0.97454149,\n",
              "        -0.19638391,  0.04346899,  0.06919904,  0.23183624,  0.00583521,\n",
              "        -0.00774107, -1.20102187,  0.58629697, -0.15253653,  1.51022015,\n",
              "         0.64578723, -0.75428437,  0.52895112, -0.20513687,  2.06419126,\n",
              "         0.10178844, -0.11047631,  0.18932371, -0.21333853,  0.17665083,\n",
              "        -2.51677089,  0.32510673, -0.72999564, -1.15956539,  0.91698712,\n",
              "        -0.20335951, -0.51717069,  0.04095087, -0.10231812, -0.37852797,\n",
              "        -0.04208672, -0.66394773,  1.10760988, -1.0087173 , -0.4967387 ,\n",
              "        -0.72726434,  1.71848736,  0.28865939, -0.68881083, -1.43983011,\n",
              "         0.69283476, -1.47937216, -0.20681293,  1.66753612,  2.96516205]),\n",
              " 'mean': 0.011295667678414008,\n",
              " 'variance': 0.8942249860409075,\n",
              " 'std_dev': 0.9456347001040664}"
            ]
          },
          "metadata": {},
          "execution_count": 37
        }
      ]
    },
    {
      "cell_type": "markdown",
      "source": [
        "### **Question 7. ) Use seaborn library to load tips dataset. Find the following from the dataset for the columns total_bill and tip`:**\n",
        "### **(i). Write a Python function that calculates their skewness.**"
      ],
      "metadata": {
        "id": "HqelPhfyjzvz"
      }
    },
    {
      "cell_type": "code",
      "source": [
        "# prompt: Write a Python function that calculates their skewness.\n",
        "\n",
        "import seaborn as sns\n",
        "import pandas as pd\n",
        "\n",
        "\n",
        "\n",
        "\n",
        "def calculate_skewness(data):\n",
        "    \"\"\"\n",
        "    Calculates the skewness of a given dataset.\n",
        "\n",
        "    Args:\n",
        "        data: A pandas Series or a list of numerical values.\n",
        "\n",
        "    Returns:\n",
        "        The skewness of the data.\n",
        "    \"\"\"\n",
        "    if isinstance(data, pd.Series):\n",
        "      return data.skew()\n",
        "    elif isinstance(data, list):\n",
        "      return pd.Series(data).skew()\n",
        "    else:\n",
        "      raise TypeError(\"Input data must be a pandas Series or a list.\")\n",
        "\n",
        "\n",
        "\n",
        "# Calculate skewness for 'total_bill'\n",
        "total_bill_skewness = calculate_skewness(tips['total_bill'])\n",
        "print(f\"Skewness of total_bill: {total_bill_skewness}\")\n",
        "\n",
        "# Calculate skewness for 'tip'\n",
        "tip_skewness = calculate_skewness(tips['tip'])\n",
        "print(f\"Skewness of tip: {tip_skewness}\")\n",
        "\n",
        "tips = sns.load_dataset('tips')\n",
        "tips"
      ],
      "metadata": {
        "colab": {
          "base_uri": "https://localhost:8080/",
          "height": 458
        },
        "id": "z2UyP8n6jl9Q",
        "outputId": "193acdd8-f94f-4aef-f94f-cef0352e82be"
      },
      "execution_count": null,
      "outputs": [
        {
          "output_type": "stream",
          "name": "stdout",
          "text": [
            "Skewness of total_bill: 1.1332130376158205\n",
            "Skewness of tip: 1.4654510370979401\n"
          ]
        },
        {
          "output_type": "execute_result",
          "data": {
            "text/plain": [
              "     total_bill   tip     sex smoker   day    time  size\n",
              "0         16.99  1.01  Female     No   Sun  Dinner     2\n",
              "1         10.34  1.66    Male     No   Sun  Dinner     3\n",
              "2         21.01  3.50    Male     No   Sun  Dinner     3\n",
              "3         23.68  3.31    Male     No   Sun  Dinner     2\n",
              "4         24.59  3.61  Female     No   Sun  Dinner     4\n",
              "..          ...   ...     ...    ...   ...     ...   ...\n",
              "239       29.03  5.92    Male     No   Sat  Dinner     3\n",
              "240       27.18  2.00  Female    Yes   Sat  Dinner     2\n",
              "241       22.67  2.00    Male    Yes   Sat  Dinner     2\n",
              "242       17.82  1.75    Male     No   Sat  Dinner     2\n",
              "243       18.78  3.00  Female     No  Thur  Dinner     2\n",
              "\n",
              "[244 rows x 7 columns]"
            ],
            "text/html": [
              "\n",
              "  <div id=\"df-4c26e40f-4638-4ebb-89b7-97300405ddd3\" class=\"colab-df-container\">\n",
              "    <div>\n",
              "<style scoped>\n",
              "    .dataframe tbody tr th:only-of-type {\n",
              "        vertical-align: middle;\n",
              "    }\n",
              "\n",
              "    .dataframe tbody tr th {\n",
              "        vertical-align: top;\n",
              "    }\n",
              "\n",
              "    .dataframe thead th {\n",
              "        text-align: right;\n",
              "    }\n",
              "</style>\n",
              "<table border=\"1\" class=\"dataframe\">\n",
              "  <thead>\n",
              "    <tr style=\"text-align: right;\">\n",
              "      <th></th>\n",
              "      <th>total_bill</th>\n",
              "      <th>tip</th>\n",
              "      <th>sex</th>\n",
              "      <th>smoker</th>\n",
              "      <th>day</th>\n",
              "      <th>time</th>\n",
              "      <th>size</th>\n",
              "    </tr>\n",
              "  </thead>\n",
              "  <tbody>\n",
              "    <tr>\n",
              "      <th>0</th>\n",
              "      <td>16.99</td>\n",
              "      <td>1.01</td>\n",
              "      <td>Female</td>\n",
              "      <td>No</td>\n",
              "      <td>Sun</td>\n",
              "      <td>Dinner</td>\n",
              "      <td>2</td>\n",
              "    </tr>\n",
              "    <tr>\n",
              "      <th>1</th>\n",
              "      <td>10.34</td>\n",
              "      <td>1.66</td>\n",
              "      <td>Male</td>\n",
              "      <td>No</td>\n",
              "      <td>Sun</td>\n",
              "      <td>Dinner</td>\n",
              "      <td>3</td>\n",
              "    </tr>\n",
              "    <tr>\n",
              "      <th>2</th>\n",
              "      <td>21.01</td>\n",
              "      <td>3.50</td>\n",
              "      <td>Male</td>\n",
              "      <td>No</td>\n",
              "      <td>Sun</td>\n",
              "      <td>Dinner</td>\n",
              "      <td>3</td>\n",
              "    </tr>\n",
              "    <tr>\n",
              "      <th>3</th>\n",
              "      <td>23.68</td>\n",
              "      <td>3.31</td>\n",
              "      <td>Male</td>\n",
              "      <td>No</td>\n",
              "      <td>Sun</td>\n",
              "      <td>Dinner</td>\n",
              "      <td>2</td>\n",
              "    </tr>\n",
              "    <tr>\n",
              "      <th>4</th>\n",
              "      <td>24.59</td>\n",
              "      <td>3.61</td>\n",
              "      <td>Female</td>\n",
              "      <td>No</td>\n",
              "      <td>Sun</td>\n",
              "      <td>Dinner</td>\n",
              "      <td>4</td>\n",
              "    </tr>\n",
              "    <tr>\n",
              "      <th>...</th>\n",
              "      <td>...</td>\n",
              "      <td>...</td>\n",
              "      <td>...</td>\n",
              "      <td>...</td>\n",
              "      <td>...</td>\n",
              "      <td>...</td>\n",
              "      <td>...</td>\n",
              "    </tr>\n",
              "    <tr>\n",
              "      <th>239</th>\n",
              "      <td>29.03</td>\n",
              "      <td>5.92</td>\n",
              "      <td>Male</td>\n",
              "      <td>No</td>\n",
              "      <td>Sat</td>\n",
              "      <td>Dinner</td>\n",
              "      <td>3</td>\n",
              "    </tr>\n",
              "    <tr>\n",
              "      <th>240</th>\n",
              "      <td>27.18</td>\n",
              "      <td>2.00</td>\n",
              "      <td>Female</td>\n",
              "      <td>Yes</td>\n",
              "      <td>Sat</td>\n",
              "      <td>Dinner</td>\n",
              "      <td>2</td>\n",
              "    </tr>\n",
              "    <tr>\n",
              "      <th>241</th>\n",
              "      <td>22.67</td>\n",
              "      <td>2.00</td>\n",
              "      <td>Male</td>\n",
              "      <td>Yes</td>\n",
              "      <td>Sat</td>\n",
              "      <td>Dinner</td>\n",
              "      <td>2</td>\n",
              "    </tr>\n",
              "    <tr>\n",
              "      <th>242</th>\n",
              "      <td>17.82</td>\n",
              "      <td>1.75</td>\n",
              "      <td>Male</td>\n",
              "      <td>No</td>\n",
              "      <td>Sat</td>\n",
              "      <td>Dinner</td>\n",
              "      <td>2</td>\n",
              "    </tr>\n",
              "    <tr>\n",
              "      <th>243</th>\n",
              "      <td>18.78</td>\n",
              "      <td>3.00</td>\n",
              "      <td>Female</td>\n",
              "      <td>No</td>\n",
              "      <td>Thur</td>\n",
              "      <td>Dinner</td>\n",
              "      <td>2</td>\n",
              "    </tr>\n",
              "  </tbody>\n",
              "</table>\n",
              "<p>244 rows × 7 columns</p>\n",
              "</div>\n",
              "    <div class=\"colab-df-buttons\">\n",
              "\n",
              "  <div class=\"colab-df-container\">\n",
              "    <button class=\"colab-df-convert\" onclick=\"convertToInteractive('df-4c26e40f-4638-4ebb-89b7-97300405ddd3')\"\n",
              "            title=\"Convert this dataframe to an interactive table.\"\n",
              "            style=\"display:none;\">\n",
              "\n",
              "  <svg xmlns=\"http://www.w3.org/2000/svg\" height=\"24px\" viewBox=\"0 -960 960 960\">\n",
              "    <path d=\"M120-120v-720h720v720H120Zm60-500h600v-160H180v160Zm220 220h160v-160H400v160Zm0 220h160v-160H400v160ZM180-400h160v-160H180v160Zm440 0h160v-160H620v160ZM180-180h160v-160H180v160Zm440 0h160v-160H620v160Z\"/>\n",
              "  </svg>\n",
              "    </button>\n",
              "\n",
              "  <style>\n",
              "    .colab-df-container {\n",
              "      display:flex;\n",
              "      gap: 12px;\n",
              "    }\n",
              "\n",
              "    .colab-df-convert {\n",
              "      background-color: #E8F0FE;\n",
              "      border: none;\n",
              "      border-radius: 50%;\n",
              "      cursor: pointer;\n",
              "      display: none;\n",
              "      fill: #1967D2;\n",
              "      height: 32px;\n",
              "      padding: 0 0 0 0;\n",
              "      width: 32px;\n",
              "    }\n",
              "\n",
              "    .colab-df-convert:hover {\n",
              "      background-color: #E2EBFA;\n",
              "      box-shadow: 0px 1px 2px rgba(60, 64, 67, 0.3), 0px 1px 3px 1px rgba(60, 64, 67, 0.15);\n",
              "      fill: #174EA6;\n",
              "    }\n",
              "\n",
              "    .colab-df-buttons div {\n",
              "      margin-bottom: 4px;\n",
              "    }\n",
              "\n",
              "    [theme=dark] .colab-df-convert {\n",
              "      background-color: #3B4455;\n",
              "      fill: #D2E3FC;\n",
              "    }\n",
              "\n",
              "    [theme=dark] .colab-df-convert:hover {\n",
              "      background-color: #434B5C;\n",
              "      box-shadow: 0px 1px 3px 1px rgba(0, 0, 0, 0.15);\n",
              "      filter: drop-shadow(0px 1px 2px rgba(0, 0, 0, 0.3));\n",
              "      fill: #FFFFFF;\n",
              "    }\n",
              "  </style>\n",
              "\n",
              "    <script>\n",
              "      const buttonEl =\n",
              "        document.querySelector('#df-4c26e40f-4638-4ebb-89b7-97300405ddd3 button.colab-df-convert');\n",
              "      buttonEl.style.display =\n",
              "        google.colab.kernel.accessAllowed ? 'block' : 'none';\n",
              "\n",
              "      async function convertToInteractive(key) {\n",
              "        const element = document.querySelector('#df-4c26e40f-4638-4ebb-89b7-97300405ddd3');\n",
              "        const dataTable =\n",
              "          await google.colab.kernel.invokeFunction('convertToInteractive',\n",
              "                                                    [key], {});\n",
              "        if (!dataTable) return;\n",
              "\n",
              "        const docLinkHtml = 'Like what you see? Visit the ' +\n",
              "          '<a target=\"_blank\" href=https://colab.research.google.com/notebooks/data_table.ipynb>data table notebook</a>'\n",
              "          + ' to learn more about interactive tables.';\n",
              "        element.innerHTML = '';\n",
              "        dataTable['output_type'] = 'display_data';\n",
              "        await google.colab.output.renderOutput(dataTable, element);\n",
              "        const docLink = document.createElement('div');\n",
              "        docLink.innerHTML = docLinkHtml;\n",
              "        element.appendChild(docLink);\n",
              "      }\n",
              "    </script>\n",
              "  </div>\n",
              "\n",
              "\n",
              "<div id=\"df-3106a2c5-04de-4516-9a5d-2ee2838e63b6\">\n",
              "  <button class=\"colab-df-quickchart\" onclick=\"quickchart('df-3106a2c5-04de-4516-9a5d-2ee2838e63b6')\"\n",
              "            title=\"Suggest charts\"\n",
              "            style=\"display:none;\">\n",
              "\n",
              "<svg xmlns=\"http://www.w3.org/2000/svg\" height=\"24px\"viewBox=\"0 0 24 24\"\n",
              "     width=\"24px\">\n",
              "    <g>\n",
              "        <path d=\"M19 3H5c-1.1 0-2 .9-2 2v14c0 1.1.9 2 2 2h14c1.1 0 2-.9 2-2V5c0-1.1-.9-2-2-2zM9 17H7v-7h2v7zm4 0h-2V7h2v10zm4 0h-2v-4h2v4z\"/>\n",
              "    </g>\n",
              "</svg>\n",
              "  </button>\n",
              "\n",
              "<style>\n",
              "  .colab-df-quickchart {\n",
              "      --bg-color: #E8F0FE;\n",
              "      --fill-color: #1967D2;\n",
              "      --hover-bg-color: #E2EBFA;\n",
              "      --hover-fill-color: #174EA6;\n",
              "      --disabled-fill-color: #AAA;\n",
              "      --disabled-bg-color: #DDD;\n",
              "  }\n",
              "\n",
              "  [theme=dark] .colab-df-quickchart {\n",
              "      --bg-color: #3B4455;\n",
              "      --fill-color: #D2E3FC;\n",
              "      --hover-bg-color: #434B5C;\n",
              "      --hover-fill-color: #FFFFFF;\n",
              "      --disabled-bg-color: #3B4455;\n",
              "      --disabled-fill-color: #666;\n",
              "  }\n",
              "\n",
              "  .colab-df-quickchart {\n",
              "    background-color: var(--bg-color);\n",
              "    border: none;\n",
              "    border-radius: 50%;\n",
              "    cursor: pointer;\n",
              "    display: none;\n",
              "    fill: var(--fill-color);\n",
              "    height: 32px;\n",
              "    padding: 0;\n",
              "    width: 32px;\n",
              "  }\n",
              "\n",
              "  .colab-df-quickchart:hover {\n",
              "    background-color: var(--hover-bg-color);\n",
              "    box-shadow: 0 1px 2px rgba(60, 64, 67, 0.3), 0 1px 3px 1px rgba(60, 64, 67, 0.15);\n",
              "    fill: var(--button-hover-fill-color);\n",
              "  }\n",
              "\n",
              "  .colab-df-quickchart-complete:disabled,\n",
              "  .colab-df-quickchart-complete:disabled:hover {\n",
              "    background-color: var(--disabled-bg-color);\n",
              "    fill: var(--disabled-fill-color);\n",
              "    box-shadow: none;\n",
              "  }\n",
              "\n",
              "  .colab-df-spinner {\n",
              "    border: 2px solid var(--fill-color);\n",
              "    border-color: transparent;\n",
              "    border-bottom-color: var(--fill-color);\n",
              "    animation:\n",
              "      spin 1s steps(1) infinite;\n",
              "  }\n",
              "\n",
              "  @keyframes spin {\n",
              "    0% {\n",
              "      border-color: transparent;\n",
              "      border-bottom-color: var(--fill-color);\n",
              "      border-left-color: var(--fill-color);\n",
              "    }\n",
              "    20% {\n",
              "      border-color: transparent;\n",
              "      border-left-color: var(--fill-color);\n",
              "      border-top-color: var(--fill-color);\n",
              "    }\n",
              "    30% {\n",
              "      border-color: transparent;\n",
              "      border-left-color: var(--fill-color);\n",
              "      border-top-color: var(--fill-color);\n",
              "      border-right-color: var(--fill-color);\n",
              "    }\n",
              "    40% {\n",
              "      border-color: transparent;\n",
              "      border-right-color: var(--fill-color);\n",
              "      border-top-color: var(--fill-color);\n",
              "    }\n",
              "    60% {\n",
              "      border-color: transparent;\n",
              "      border-right-color: var(--fill-color);\n",
              "    }\n",
              "    80% {\n",
              "      border-color: transparent;\n",
              "      border-right-color: var(--fill-color);\n",
              "      border-bottom-color: var(--fill-color);\n",
              "    }\n",
              "    90% {\n",
              "      border-color: transparent;\n",
              "      border-bottom-color: var(--fill-color);\n",
              "    }\n",
              "  }\n",
              "</style>\n",
              "\n",
              "  <script>\n",
              "    async function quickchart(key) {\n",
              "      const quickchartButtonEl =\n",
              "        document.querySelector('#' + key + ' button');\n",
              "      quickchartButtonEl.disabled = true;  // To prevent multiple clicks.\n",
              "      quickchartButtonEl.classList.add('colab-df-spinner');\n",
              "      try {\n",
              "        const charts = await google.colab.kernel.invokeFunction(\n",
              "            'suggestCharts', [key], {});\n",
              "      } catch (error) {\n",
              "        console.error('Error during call to suggestCharts:', error);\n",
              "      }\n",
              "      quickchartButtonEl.classList.remove('colab-df-spinner');\n",
              "      quickchartButtonEl.classList.add('colab-df-quickchart-complete');\n",
              "    }\n",
              "    (() => {\n",
              "      let quickchartButtonEl =\n",
              "        document.querySelector('#df-3106a2c5-04de-4516-9a5d-2ee2838e63b6 button');\n",
              "      quickchartButtonEl.style.display =\n",
              "        google.colab.kernel.accessAllowed ? 'block' : 'none';\n",
              "    })();\n",
              "  </script>\n",
              "</div>\n",
              "\n",
              "  <div id=\"id_af0567b3-e341-4382-a3ee-42596717e256\">\n",
              "    <style>\n",
              "      .colab-df-generate {\n",
              "        background-color: #E8F0FE;\n",
              "        border: none;\n",
              "        border-radius: 50%;\n",
              "        cursor: pointer;\n",
              "        display: none;\n",
              "        fill: #1967D2;\n",
              "        height: 32px;\n",
              "        padding: 0 0 0 0;\n",
              "        width: 32px;\n",
              "      }\n",
              "\n",
              "      .colab-df-generate:hover {\n",
              "        background-color: #E2EBFA;\n",
              "        box-shadow: 0px 1px 2px rgba(60, 64, 67, 0.3), 0px 1px 3px 1px rgba(60, 64, 67, 0.15);\n",
              "        fill: #174EA6;\n",
              "      }\n",
              "\n",
              "      [theme=dark] .colab-df-generate {\n",
              "        background-color: #3B4455;\n",
              "        fill: #D2E3FC;\n",
              "      }\n",
              "\n",
              "      [theme=dark] .colab-df-generate:hover {\n",
              "        background-color: #434B5C;\n",
              "        box-shadow: 0px 1px 3px 1px rgba(0, 0, 0, 0.15);\n",
              "        filter: drop-shadow(0px 1px 2px rgba(0, 0, 0, 0.3));\n",
              "        fill: #FFFFFF;\n",
              "      }\n",
              "    </style>\n",
              "    <button class=\"colab-df-generate\" onclick=\"generateWithVariable('tips')\"\n",
              "            title=\"Generate code using this dataframe.\"\n",
              "            style=\"display:none;\">\n",
              "\n",
              "  <svg xmlns=\"http://www.w3.org/2000/svg\" height=\"24px\"viewBox=\"0 0 24 24\"\n",
              "       width=\"24px\">\n",
              "    <path d=\"M7,19H8.4L18.45,9,17,7.55,7,17.6ZM5,21V16.75L18.45,3.32a2,2,0,0,1,2.83,0l1.4,1.43a1.91,1.91,0,0,1,.58,1.4,1.91,1.91,0,0,1-.58,1.4L9.25,21ZM18.45,9,17,7.55Zm-12,3A5.31,5.31,0,0,0,4.9,8.1,5.31,5.31,0,0,0,1,6.5,5.31,5.31,0,0,0,4.9,4.9,5.31,5.31,0,0,0,6.5,1,5.31,5.31,0,0,0,8.1,4.9,5.31,5.31,0,0,0,12,6.5,5.46,5.46,0,0,0,6.5,12Z\"/>\n",
              "  </svg>\n",
              "    </button>\n",
              "    <script>\n",
              "      (() => {\n",
              "      const buttonEl =\n",
              "        document.querySelector('#id_af0567b3-e341-4382-a3ee-42596717e256 button.colab-df-generate');\n",
              "      buttonEl.style.display =\n",
              "        google.colab.kernel.accessAllowed ? 'block' : 'none';\n",
              "\n",
              "      buttonEl.onclick = () => {\n",
              "        google.colab.notebook.generateWithVariable('tips');\n",
              "      }\n",
              "      })();\n",
              "    </script>\n",
              "  </div>\n",
              "\n",
              "    </div>\n",
              "  </div>\n"
            ],
            "application/vnd.google.colaboratory.intrinsic+json": {
              "type": "dataframe",
              "variable_name": "tips",
              "summary": "{\n  \"name\": \"tips\",\n  \"rows\": 244,\n  \"fields\": [\n    {\n      \"column\": \"total_bill\",\n      \"properties\": {\n        \"dtype\": \"number\",\n        \"std\": 8.902411954856856,\n        \"min\": 3.07,\n        \"max\": 50.81,\n        \"num_unique_values\": 229,\n        \"samples\": [\n          22.12,\n          20.23,\n          14.78\n        ],\n        \"semantic_type\": \"\",\n        \"description\": \"\"\n      }\n    },\n    {\n      \"column\": \"tip\",\n      \"properties\": {\n        \"dtype\": \"number\",\n        \"std\": 1.3836381890011826,\n        \"min\": 1.0,\n        \"max\": 10.0,\n        \"num_unique_values\": 123,\n        \"samples\": [\n          3.35,\n          1.5,\n          6.73\n        ],\n        \"semantic_type\": \"\",\n        \"description\": \"\"\n      }\n    },\n    {\n      \"column\": \"sex\",\n      \"properties\": {\n        \"dtype\": \"category\",\n        \"num_unique_values\": 2,\n        \"samples\": [\n          \"Male\",\n          \"Female\"\n        ],\n        \"semantic_type\": \"\",\n        \"description\": \"\"\n      }\n    },\n    {\n      \"column\": \"smoker\",\n      \"properties\": {\n        \"dtype\": \"category\",\n        \"num_unique_values\": 2,\n        \"samples\": [\n          \"Yes\",\n          \"No\"\n        ],\n        \"semantic_type\": \"\",\n        \"description\": \"\"\n      }\n    },\n    {\n      \"column\": \"day\",\n      \"properties\": {\n        \"dtype\": \"category\",\n        \"num_unique_values\": 4,\n        \"samples\": [\n          \"Sat\",\n          \"Fri\"\n        ],\n        \"semantic_type\": \"\",\n        \"description\": \"\"\n      }\n    },\n    {\n      \"column\": \"time\",\n      \"properties\": {\n        \"dtype\": \"category\",\n        \"num_unique_values\": 2,\n        \"samples\": [\n          \"Lunch\",\n          \"Dinner\"\n        ],\n        \"semantic_type\": \"\",\n        \"description\": \"\"\n      }\n    },\n    {\n      \"column\": \"size\",\n      \"properties\": {\n        \"dtype\": \"number\",\n        \"std\": 0,\n        \"min\": 1,\n        \"max\": 6,\n        \"num_unique_values\": 6,\n        \"samples\": [\n          2,\n          3\n        ],\n        \"semantic_type\": \"\",\n        \"description\": \"\"\n      }\n    }\n  ]\n}"
            }
          },
          "metadata": {},
          "execution_count": 45
        }
      ]
    },
    {
      "cell_type": "markdown",
      "source": [
        "### **(ii). Create a program that determines whether the columns exhibit positive skewness, negative skewness, or is approximately symmetric.**"
      ],
      "metadata": {
        "id": "RDKNOo_nk12G"
      }
    },
    {
      "cell_type": "code",
      "source": [
        "def analyze_skewness(skewness_value):\n",
        "    \"\"\"\n",
        "    Analyzes the skewness value and determines the type of skewness.\n",
        "\n",
        "    Args:\n",
        "        skewness_value: The calculated skewness value.\n",
        "\n",
        "    Returns:\n",
        "        A string indicating the type of skewness: \"Positive Skew\", \"Negative Skew\", or \"Approximately Symmetric\".\n",
        "    \"\"\"\n",
        "    if skewness_value > 0.5:\n",
        "        return \"Positive Skew\"\n",
        "    elif skewness_value < -0.5:\n",
        "        return \"Negative Skew\"\n",
        "    else:\n",
        "        return \"Approximately Symmetric\"\n",
        "\n",
        "# Analyze skewness for 'total_bill'\n",
        "total_bill_skewness_analysis = analyze_skewness(total_bill_skewness)\n",
        "print(f\"Skewness Analysis for total_bill: {total_bill_skewness_analysis}\")\n",
        "\n",
        "# Analyze skewness for 'tip'\n",
        "tip_skewness_analysis = analyze_skewness(tip_skewness)\n",
        "print(f\"Skewness Analysis for tip: {tip_skewness_analysis}\")"
      ],
      "metadata": {
        "colab": {
          "base_uri": "https://localhost:8080/"
        },
        "id": "C5HBwODYk1dL",
        "outputId": "dc0e1cf2-3167-49ec-d218-3e28c43d80c8"
      },
      "execution_count": null,
      "outputs": [
        {
          "output_type": "stream",
          "name": "stdout",
          "text": [
            "Skewness Analysis for total_bill: Positive Skew\n",
            "Skewness Analysis for tip: Positive Skew\n"
          ]
        }
      ]
    },
    {
      "cell_type": "markdown",
      "source": [
        "### **(iii). Write a function that calculates the covariance between two columns.**"
      ],
      "metadata": {
        "id": "eYlfvw8GlWGf"
      }
    },
    {
      "cell_type": "code",
      "source": [
        "def calculate_covariance(data, column1, column2):\n",
        "    \"\"\"\n",
        "    Calculates the covariance between two columns in a Pandas DataFrame.\n",
        "\n",
        "    Args:\n",
        "        data: The Pandas DataFrame.\n",
        "        column1: The name of the first column.\n",
        "        column2: The name of the second column.\n",
        "\n",
        "    Returns:\n",
        "        The covariance between the two columns.\n",
        "    \"\"\"\n",
        "    if column1 not in data.columns or column2 not in data.columns:\n",
        "        raise ValueError(\"Columns not found in the DataFrame.\")\n",
        "\n",
        "    return data[column1].cov(data[column2])\n",
        "\n",
        "# Example usage (assuming 'tips' DataFrame is already loaded):\n",
        "covariance_total_bill_tip = calculate_covariance(tips, 'total_bill', 'tip')\n",
        "print(f\"Covariance between total_bill and tip: {covariance_total_bill_tip}\")"
      ],
      "metadata": {
        "colab": {
          "base_uri": "https://localhost:8080/"
        },
        "id": "-IplQszRkgTb",
        "outputId": "b40727d7-6f7f-47c4-8862-12fbc8826cb8"
      },
      "execution_count": null,
      "outputs": [
        {
          "output_type": "stream",
          "name": "stdout",
          "text": [
            "Covariance between total_bill and tip: 8.323501629224854\n"
          ]
        }
      ]
    },
    {
      "cell_type": "markdown",
      "source": [
        "### **(iv).  Implement a Python program that calculates the Pearson correlation coefficient between two columns.**"
      ],
      "metadata": {
        "id": "rm7t_HRYlubE"
      }
    },
    {
      "cell_type": "code",
      "source": [
        "def calculate_pearson_correlation(data, column1, column2):\n",
        "    \"\"\"\n",
        "    Calculates the Pearson correlation coefficient between two columns in a Pandas DataFrame.\n",
        "\n",
        "    Args:\n",
        "        data: The Pandas DataFrame.\n",
        "        column1: The name of the first column.\n",
        "        column2: The name of the second column.\n",
        "\n",
        "    Returns:\n",
        "        The Pearson correlation coefficient between the two columns.\n",
        "    \"\"\"\n",
        "    if column1 not in data.columns or column2 not in data.columns:\n",
        "        raise ValueError(\"Columns not found in the DataFrame.\")\n",
        "\n",
        "    return data[column1].corr(data[column2])\n",
        "\n",
        "# Example usage (assuming 'tips' DataFrame is already loaded):\n",
        "correlation_total_bill_tip = calculate_pearson_correlation(tips, 'total_bill', 'tip')\n",
        "print(f\"Pearson correlation between total_bill and tip: {correlation_total_bill_tip}\")"
      ],
      "metadata": {
        "colab": {
          "base_uri": "https://localhost:8080/"
        },
        "id": "ZHPCU_tnlOnK",
        "outputId": "76f7102a-8640-4182-e848-a7449f1c5a4b"
      },
      "execution_count": null,
      "outputs": [
        {
          "output_type": "stream",
          "name": "stdout",
          "text": [
            "Pearson correlation between total_bill and tip: 0.6757341092113641\n"
          ]
        }
      ]
    },
    {
      "cell_type": "markdown",
      "source": [
        "### **(v).  Write a script to visualize the correlation between two specific columns in a Pandas DataFrame using scatter plots**"
      ],
      "metadata": {
        "id": "vTFYnkB8mM61"
      }
    },
    {
      "cell_type": "code",
      "source": [
        "import matplotlib.pyplot as plt\n",
        "\n",
        "def visualize_correlation(data, column1, column2):\n",
        "    \"\"\"\n",
        "    Visualizes the correlation between two columns in a Pandas DataFrame using a scatter plot.\n",
        "\n",
        "    Args:\n",
        "        data: The Pandas DataFrame.\n",
        "        column1: The name of the first column.\n",
        "        column2: The name of the second column.\n",
        "    \"\"\"\n",
        "    if column1 not in data.columns or column2 not in data.columns:\n",
        "        raise ValueError(\"Columns not found in the DataFrame.\")\n",
        "\n",
        "    plt.figure(figsize=(8, 6))\n",
        "    plt.scatter(data[column1], data[column2])\n",
        "    plt.xlabel(column1)\n",
        "    plt.ylabel(column2)\n",
        "    plt.title(f\"Scatter Plot of {column1} vs. {column2}\")\n",
        "    plt.grid(True)\n",
        "    plt.show()\n",
        "\n",
        "# Example usage (assuming 'tips' DataFrame is already loaded):\n",
        "visualize_correlation(tips, 'total_bill', 'tip')"
      ],
      "metadata": {
        "colab": {
          "base_uri": "https://localhost:8080/",
          "height": 564
        },
        "id": "l6RIj7KZmC11",
        "outputId": "eaa89d0a-892a-4c79-f87a-d5db3f1f2289"
      },
      "execution_count": null,
      "outputs": [
        {
          "output_type": "display_data",
          "data": {
            "text/plain": [
              "<Figure size 800x600 with 1 Axes>"
            ],
            "image/png": "[encoded data removed]"
          },
          "metadata": {}
        }
      ]
    },
    {
      "cell_type": "markdown",
      "source": [
        "### **Question 8. Write a Python function to calculate the probability density function (PDF) of a continuous random variable for a given normal distribution.**"
      ],
      "metadata": {
        "id": "pjKAtsmmnC1c"
      }
    },
    {
      "cell_type": "code",
      "source": [
        "import math\n",
        "\n",
        "def normal_pdf(x, mu, sigma):\n",
        "    \"\"\"\n",
        "    Calculate the Probability Density Function (PDF) of a normal distribution.\n",
        "\n",
        "    :param x: The point at which to evaluate the PDF.\n",
        "    :param mu: The mean (µ) of the normal distribution.\n",
        "    :param sigma: The standard deviation (σ) of the normal distribution.\n",
        "\n",
        "    :return: The value of the PDF at point x.\n",
        "    \"\"\"\n",
        "    # Calculate the PDF using the normal distribution formula\n",
        "    pdf_value = (1 / (sigma * math.sqrt(2 * math.pi))) * math.exp(-0.5 * ((x - mu) / sigma) ** 2)\n",
        "    return pdf_value\n",
        "\n",
        "# Example :\n",
        "mu = 0      # Mean of the distribution\n",
        "sigma = 1   # Standard deviation\n",
        "x = 0       # The point at which we want to calculate the PDF\n",
        "\n",
        "pdf_at_x = normal_pdf(x, mu, sigma)\n",
        "print(f\"The PDF at x = {x} is: {pdf_at_x}\")\n",
        "\n"
      ],
      "metadata": {
        "colab": {
          "base_uri": "https://localhost:8080/"
        },
        "id": "bruFe0E2nVYV",
        "outputId": "8c365d77-5215-4870-86a7-5828dfe12f0b"
      },
      "execution_count": null,
      "outputs": [
        {
          "output_type": "stream",
          "name": "stdout",
          "text": [
            "The PDF at x = 0 is: 0.3989422804014327\n"
          ]
        }
      ]
    },
    {
      "cell_type": "markdown",
      "source": [
        "### **Question 9. Create a program to calculate the cumulative distribution function (CDF) of exponential distribution. ***"
      ],
      "metadata": {
        "id": "fPhUz4yxnsHY"
      }
    },
    {
      "cell_type": "code",
      "source": [
        "import math\n",
        "\n",
        "def exponential_cdf(x, lambd):\n",
        "    \"\"\"\n",
        "    Calculates the Cumulative Distribution Function (CDF) of an exponential distribution.\n",
        "\n",
        "    Args:\n",
        "        x: The value at which to evaluate the CDF.\n",
        "        lambd: The rate parameter (λ) of the exponential distribution.\n",
        "\n",
        "    Returns:\n",
        "        The CDF value at x.\n",
        "    \"\"\"\n",
        "    if x < 0:\n",
        "        return 0\n",
        "    else:\n",
        "        return 1 - math.exp(-lambd * x)\n",
        "\n",
        "# Example usage\n",
        "lambd = 0.5  # Example rate parameter\n",
        "x_values = [0, 1, 2, 3, 4, 5]  # Example x-values\n",
        "\n",
        "for x in x_values:\n",
        "    cdf_value = exponential_cdf(x, lambd)\n",
        "    print(f\"CDF at x = {x}: {cdf_value}\")"
      ],
      "metadata": {
        "colab": {
          "base_uri": "https://localhost:8080/"
        },
        "id": "Jlw5dDJPnhDJ",
        "outputId": "9ae9b4f3-d850-417d-ce83-a0664704796a"
      },
      "execution_count": null,
      "outputs": [
        {
          "output_type": "stream",
          "name": "stdout",
          "text": [
            "CDF at x = 0: 0.0\n",
            "CDF at x = 1: 0.3934693402873666\n",
            "CDF at x = 2: 0.6321205588285577\n",
            "CDF at x = 3: 0.7768698398515702\n",
            "CDF at x = 4: 0.8646647167633873\n",
            "CDF at x = 5: 0.9179150013761012\n"
          ]
        }
      ]
    },
    {
      "cell_type": "markdown",
      "source": [
        "### **Question 10. Write a Python function to calculate the probability mass function (PMF) of poisson distribution.**"
      ],
      "metadata": {
        "id": "kurL04-LojuB"
      }
    },
    {
      "cell_type": "code",
      "source": [
        "def poisson_pmf(k, lambd):\n",
        "    \"\"\"\n",
        "    Calculates the Probability Mass Function (PMF) of a Poisson distribution.\n",
        "\n",
        "    Args:\n",
        "        k: The number of events.\n",
        "        lambd: The average rate of events (λ).\n",
        "\n",
        "    Returns:\n",
        "        The PMF value at k.\n",
        "    \"\"\"\n",
        "    if k < 0 or not isinstance(k, int):\n",
        "        return 0  # PMF is 0 for negative or non-integer k\n",
        "\n",
        "    pmf_value = (lambd**k * math.exp(-lambd)) / math.factorial(k)\n",
        "    return pmf_value\n",
        "\n",
        "# Example\n",
        "lambd = 2  # Example average rate\n",
        "k_values = [0, 1, 2, 3, 4, 5]  # Example k-values\n",
        "\n",
        "for k in k_values:\n",
        "    pmf_value = poisson_pmf(k, lambd)\n",
        "    print(f\"PMF at k = {k}: {pmf_value}\")"
      ],
      "metadata": {
        "colab": {
          "base_uri": "https://localhost:8080/"
        },
        "id": "xwegcY6soetn",
        "outputId": "96814964-d0d2-41ad-8595-9462ca636745"
      },
      "execution_count": null,
      "outputs": [
        {
          "output_type": "stream",
          "name": "stdout",
          "text": [
            "PMF at k = 0: 0.1353352832366127\n",
            "PMF at k = 1: 0.2706705664732254\n",
            "PMF at k = 2: 0.2706705664732254\n",
            "PMF at k = 3: 0.1804470443154836\n",
            "PMF at k = 4: 0.0902235221577418\n",
            "PMF at k = 5: 0.03608940886309672\n"
          ]
        }
      ]
    },
    {
      "cell_type": "markdown",
      "source": [
        "### **Question 11. A company wants to test if a new website layout leads to a higher conversion rate (percentage of visitors who make a purchase). They collect data from the old and new layouts to compare.**\n",
        "\n",
        "\n",
        "### **To generate the data use the following command:**\n",
        "\n",
        "```python\n",
        "\n",
        "import numpy as np\n",
        "\n",
        "# 50 purchases out of 1000 visitors\n",
        "\n",
        "old_layout = np.array([1] * 50 + [0] * 950)\n",
        "\n",
        "# 70 purchases out of 1000 visitors  \n",
        "\n",
        "new_layout = np.array([1] * 70 + [0] * 930)\n",
        "\n",
        "  ```\n",
        "\n",
        "### **Apply z-test to find which layout is successful.**"
      ],
      "metadata": {
        "id": "UaCSDc4kpOnA"
      }
    },
    {
      "cell_type": "code",
      "source": [
        "import numpy as np\n",
        "from statsmodels.stats.weightstats import ztest\n",
        "\n",
        "# Generate data (as provided in the problem description)\n",
        "old_layout = np.array([1] * 50 + [0] * 950)\n",
        "new_layout = np.array([1] * 70 + [0] * 930)\n",
        "\n",
        "# Perform the two-sample z-test\n",
        "z_statistic, p_value = ztest(old_layout, new_layout)\n",
        "\n",
        "# Print results\n",
        "print(\"Z-statistic:\", z_statistic)\n",
        "print(\"P-value:\", p_value)\n",
        "\n",
        "# Interpret the results\n",
        "alpha = 0.05  # Significance level\n",
        "if p_value < alpha:\n",
        "    print(\"Reject the null hypothesis. The new layout has a statistically significant higher conversion rate.\")\n",
        "else:\n",
        "    print(\"Fail to reject the null hypothesis. There is no statistically significant difference in conversion rates between the layouts.\")"
      ],
      "metadata": {
        "colab": {
          "base_uri": "https://localhost:8080/"
        },
        "id": "OUVYi4mco7Et",
        "outputId": "76de316e-028d-470e-9b35-b76c0cb203c8"
      },
      "execution_count": null,
      "outputs": [
        {
          "output_type": "stream",
          "name": "stdout",
          "text": [
            "Z-statistic: -1.883837962960912\n",
            "P-value: 0.05958689675745177\n",
            "Fail to reject the null hypothesis. There is no statistically significant difference in conversion rates between the layouts.\n"
          ]
        }
      ]
    },
    {
      "cell_type": "markdown",
      "source": [
        "### **Question 12. A tutoring service claims that its program improves students' exam scores. A sample of students who participated in the program was taken, and their scores before and after the program were recorded.**\n",
        "### **Use the below code to generate samples of respective arrays of marks:**\n",
        "\n",
        "### **``python**\n",
        "\n",
        "### **before_program = np.array([75, 80, 85, 70, 90, 78, 92, 88, 82, 87])**\n",
        "\n",
        "### **after_program = np.array([80, 85, 90, 80, 92, 80, 95, 90, 85, 88])**\n",
        "\n",
        "### **```**\n",
        "\n",
        "### **Use z-test to find if the claims made by tutor are true or false.**\n"
      ],
      "metadata": {
        "id": "9ARck4T9r3gs"
      }
    },
    {
      "cell_type": "code",
      "source": [
        "import numpy as np\n",
        "import scipy.stats as stats\n",
        "\n",
        "# Given data\n",
        "before_program = np.array([75, 80, 85, 70, 90, 78, 92, 88, 82, 87])\n",
        "after_program = np.array([80, 85, 90, 80, 92, 80, 95, 90, 85, 88])\n",
        "\n",
        "# Calculate the differences between before and after scores\n",
        "differences = after_program - before_program\n",
        "\n",
        "# Mean of the differences\n",
        "mean_diff = np.mean(differences)\n",
        "\n",
        "# Standard deviation of the differences\n",
        "std_diff = np.std(differences, ddof=1)  # Using sample standard deviation (ddof=1)\n",
        "\n",
        "# Sample size\n",
        "n = len(differences)\n",
        "\n",
        "# Standard error of the mean difference\n",
        "std_error = std_diff / np.sqrt(n)\n",
        "\n",
        "# Z-score\n",
        "z_score = mean_diff / std_error\n",
        "\n",
        "# P-value (one-tailed test)\n",
        "p_value = 1 - stats.norm.cdf(z_score)\n",
        "\n",
        "# Output the results\n",
        "print(f\"Mean of differences: {mean_diff}\")\n",
        "print(f\"Standard deviation of differences: {std_diff}\")\n",
        "print(f\"Z-score: {z_score}\")\n",
        "print(f\"P-value: {p_value}\")\n",
        "\n",
        "# Decision rule (assuming alpha = 0.05)\n",
        "alpha = 0.05\n",
        "if z_score > 1.645:\n",
        "    print(\"Reject the null hypothesis: The tutoring program improves scores.\")\n",
        "else:\n",
        "    print(\"Fail to reject the null hypothesis: No evidence that the tutoring program improves scores.\")\n"
      ],
      "metadata": {
        "colab": {
          "base_uri": "https://localhost:8080/"
        },
        "id": "GMKZtzDcsjrO",
        "outputId": "03e6aa02-a2ae-4be8-b9f8-607bf69dad06"
      },
      "execution_count": null,
      "outputs": [
        {
          "output_type": "stream",
          "name": "stdout",
          "text": [
            "Mean of differences: 3.8\n",
            "Standard deviation of differences: 2.616188916046478\n",
            "Z-score: 4.593190894944668\n",
            "P-value: 2.182597052646784e-06\n",
            "Reject the null hypothesis: The tutoring program improves scores.\n"
          ]
        }
      ]
    },
    {
      "cell_type": "markdown",
      "source": [
        "### **Question 13.  A pharmaceutical company wants to determine if a new drug is effective in reducing blood pressure. They conduct a study and record blood pressure measurements before and after administering the drug.**\n",
        "\n",
        "\n",
        "### **Use** **the** **below** **code** **to** **generate** **samples** **of** **respective** **arrays** **of** **blood** **pressure**:\n",
        "### **``python**\n",
        "\n",
        "### **before_drug = np.array([145, 150, 140, 135, 155, 160, 152, 148, 130, 138])**\n",
        "\n",
        "### **after_drug = np.array([130, 140, 132, 128, 145, 148, 138, 136, 125, 130])**\n",
        "\n",
        "###  ```\n",
        "\n",
        "\n",
        "### **Implement z-test to find if the drug really works or not**"
      ],
      "metadata": {
        "id": "y0pk2cJitnXp"
      }
    },
    {
      "cell_type": "code",
      "source": [
        "before_drug = np.array([145, 150, 140, 135, 155, 160, 152, 148, 130, 138])\n",
        "after_drug = np.array([130, 140, 132, 128, 145, 148, 138, 136, 125, 130])\n",
        "\n",
        "# Calculate the differences between before and after blood pressure measurements\n",
        "differences = before_drug - after_drug\n",
        "\n",
        "# Perform the paired z-test\n",
        "z_statistic, p_value = ztest(differences)\n",
        "\n",
        "# Print results\n",
        "print(\"Z-statistic:\", z_statistic)\n",
        "print(\"P-value:\", p_value)\n",
        "\n",
        "# Interpret the results (assuming a significance level of 0.05)\n",
        "alpha = 0.05\n",
        "if p_value < alpha:\n",
        "    print(\"Reject the null hypothesis: The drug is effective in reducing blood pressure.\")\n",
        "else:\n",
        "    print(\"Fail to reject the null hypothesis: There is no significant evidence that the drug reduces blood pressure.\")"
      ],
      "metadata": {
        "colab": {
          "base_uri": "https://localhost:8080/"
        },
        "id": "jsqZMBT9tYya",
        "outputId": "5701b0f9-07eb-41b1-ae4b-b5dac0d71f3f"
      },
      "execution_count": null,
      "outputs": [
        {
          "output_type": "stream",
          "name": "stdout",
          "text": [
            "Z-statistic: 10.04987562112089\n",
            "P-value: 9.198344407700256e-24\n",
            "Reject the null hypothesis: The drug is effective in reducing blood pressure.\n"
          ]
        }
      ]
    },
    {
      "cell_type": "markdown",
      "source": [
        "### Question 14. A customer service department claims that their average response time is less than 5 minutes. A sample\n",
        "### of recent customer interactions was taken, and the response times were recorded.\n",
        "\n",
        "\n",
        "### Implement the below code to generate the array of response time:\n",
        "\n",
        "### ```python\n",
        "\n",
        "### response_times = np.array([4.3, 3.8, 5.1, 4.9, 4.7, 4.2, 5.2, 4.5, 4.6, 4.4])\n",
        "\n",
        "### ```\n",
        "\n",
        "### Implement z-test to find the claims made by customer service department are ture or false."
      ],
      "metadata": {
        "id": "VdJOYui32Hp5"
      }
    },
    {
      "cell_type": "code",
      "source": [
        "response_times = np.array([4.3, 3.8, 5.1, 4.9, 4.7, 4.2, 5.2, 4.5, 4.6, 4.4])\n",
        "\n",
        "# Hypothesized mean response time\n",
        "mu_hypothesized = 5\n",
        "\n",
        "# Perform the one-sample z-test\n",
        "z_statistic, p_value = ztest(response_times, value=mu_hypothesized, alternative='smaller')\n",
        "\n",
        "# Print the results\n",
        "print(\"Z-statistic:\", z_statistic)\n",
        "print(\"P-value:\", p_value)\n",
        "\n",
        "# Interpret the results\n",
        "alpha = 0.05  # Significance level\n",
        "if p_value < alpha:\n",
        "    print(\"Reject the null hypothesis. The average response time is significantly less than 5 minutes.\")\n",
        "else:\n",
        "    print(\"Fail to reject the null hypothesis. There is not enough evidence to conclude that the average response time is less than 5 minutes.\")"
      ],
      "metadata": {
        "colab": {
          "base_uri": "https://localhost:8080/"
        },
        "id": "Nvmb3Jxfudls",
        "outputId": "e235ca4e-1939-4c50-8e62-5d9366f095aa"
      },
      "execution_count": null,
      "outputs": [
        {
          "output_type": "stream",
          "name": "stdout",
          "text": [
            "Z-statistic: -3.1844572260429627\n",
            "P-value: 0.0007251287113068958\n",
            "Reject the null hypothesis. The average response time is significantly less than 5 minutes.\n"
          ]
        }
      ]
    },
    {
      "cell_type": "markdown",
      "source": [
        "### **Question 15.A company is testing two different website layouts to see which one leads to higher click-through rates.**\n",
        "### **Write a Python function to perform an A/B test analysis, including calculating the t-statistic, degrees of freedom, and p-value.**\n",
        "\n",
        "\n",
        "### **Use the following data:**\n",
        "\n",
        "### **```python**\n",
        "\n",
        "### **layout_a_clicks = [28, 32, 33, 29, 31, 34, 30, 35, 36, 37]**\n",
        "\n",
        "### **layout_b_clicks = [40, 41, 38, 42, 39, 44, 43, 41, 45, 47]**"
      ],
      "metadata": {
        "id": "6VQ1RfRS28f1"
      }
    },
    {
      "cell_type": "code",
      "source": [
        "import numpy as np\n",
        "from scipy.stats import ttest_ind\n",
        "\n",
        "def ab_test_analysis(layout_a_clicks, layout_b_clicks):\n",
        "    \"\"\"\n",
        "    Performs an A/B test analysis.\n",
        "\n",
        "    Args:\n",
        "        layout_a_clicks: A list of click-through rates for layout A.\n",
        "        layout_b_clicks: A list of click-through rates for layout B.\n",
        "\n",
        "    Returns:\n",
        "        A dictionary containing the t-statistic, degrees of freedom, and p-value.\n",
        "    \"\"\"\n",
        "\n",
        "    t_statistic, p_value = ttest_ind(layout_a_clicks, layout_b_clicks)\n",
        "    degrees_of_freedom = len(layout_a_clicks) + len(layout_b_clicks) - 2\n",
        "\n",
        "    return {\n",
        "        \"t_statistic\": t_statistic,\n",
        "        \"degrees_of_freedom\": degrees_of_freedom,\n",
        "        \"p_value\": p_value\n",
        "    }\n",
        "\n",
        "\n",
        "# Example usage:\n",
        "layout_a_clicks = [28, 32, 33, 29, 31, 34, 30, 35, 36, 37]\n",
        "layout_b_clicks = [40, 41, 38, 42, 39, 44, 43, 41, 45, 47]\n",
        "\n",
        "results = ab_test_analysis(layout_a_clicks, layout_b_clicks)\n",
        "results"
      ],
      "metadata": {
        "id": "2yxK9xnj231f",
        "colab": {
          "base_uri": "https://localhost:8080/"
        },
        "outputId": "fb8a7948-0d81-4347-cad6-28bddcefa968"
      },
      "execution_count": null,
      "outputs": [
        {
          "output_type": "execute_result",
          "data": {
            "text/plain": [
              "{'t_statistic': -7.298102156175071,\n",
              " 'degrees_of_freedom': 18,\n",
              " 'p_value': 8.833437608301987e-07}"
            ]
          },
          "metadata": {},
          "execution_count": 4
        }
      ]
    },
    {
      "cell_type": "markdown",
      "source": [
        "### **Question 16. A pharmaceutical company wants to determine if a new drug is more effective than an existing drug in reducing cholesterol levels. Create a program to analyze the clinical trial data and calculate the tstatistic and p-value for the treatment effect.**\n",
        "\n",
        "\n",
        "### **Use the following data of cholestrol level:**\n",
        "\n",
        "### ```**python**\n",
        "\n",
        "### **existing_drug_levels = [180, 182, 175, 185, 178, 176, 172, 184, 179, 183]**\n",
        "\n",
        "### **new_drug_levels = [170, 172, 165, 168, 175, 173, 170, 178, 172, 176]**\n",
        "\n",
        "### **```**\n",
        "\n"
      ],
      "metadata": {
        "id": "nVSYEZvghZh2"
      }
    },
    {
      "cell_type": "code",
      "source": [
        "existing_drug_levels = [180, 182, 175, 185, 178, 176, 172, 184, 179, 183]\n",
        "new_drug_levels = [170, 172, 165, 168, 175, 173, 170, 178, 172, 176]\n",
        "\n",
        "t_statistic, p_value = ttest_ind(existing_drug_levels, new_drug_levels)\n",
        "\n",
        "print(\"T-statistic:\", t_statistic)\n",
        "print(\"P-value:\", p_value)"
      ],
      "metadata": {
        "colab": {
          "base_uri": "https://localhost:8080/"
        },
        "id": "AXjESlq2d3Tm",
        "outputId": "fedfd972-3303-4da0-fb54-fc413eee1be3"
      },
      "execution_count": null,
      "outputs": [
        {
          "output_type": "stream",
          "name": "stdout",
          "text": [
            "T-statistic: 4.14048098620866\n",
            "P-value: 0.0006143398442372505\n"
          ]
        }
      ]
    },
    {
      "cell_type": "markdown",
      "source": [
        "### **Question 17. A school district introduces an educational intervention program to improve math scores. Write a Python function to analyze pre- and post-intervention test scores, calculating the t-statistic and p-value to** **determine** **if** **the** **intervention** **had** **a** **significant** **impact**.\n",
        "\n",
        "\n",
        "### **Use** **the** **following** **data** **of** **test** **score**:\n",
        "\n",
        "\n",
        "### ** ```python**\n",
        "\n",
        "### ** pre_intervention_scores = [80, 85, 90, 75, 88, 82, 92, 78, 85, 87]**\n",
        "\n",
        "### ** post_intervention_scores = [90, 92, 88, 92, 95, 91, 96, 93, 89, 93]**"
      ],
      "metadata": {
        "id": "RMD1vV1sh4sY"
      }
    },
    {
      "cell_type": "code",
      "source": [
        "\n",
        "\n",
        "from scipy.stats import ttest_rel\n",
        "\n",
        "def analyze_intervention(pre_scores, post_scores):\n",
        "    \"\"\"\n",
        "    Analyzes pre- and post-intervention test scores using a paired t-test.\n",
        "\n",
        "    Args:\n",
        "        pre_scores: A list of pre-intervention test scores.\n",
        "        post_scores: A list of post-intervention test scores.\n",
        "\n",
        "    Returns:\n",
        "        A dictionary containing the t-statistic and p-value.\n",
        "    \"\"\"\n",
        "    t_statistic, p_value = ttest_rel(pre_scores, post_scores)\n",
        "    return {\"t_statistic\": t_statistic, \"p_value\": p_value}\n",
        "\n",
        "# Example usage\n",
        "pre_intervention_scores = [80, 85, 90, 75, 88, 82, 92, 78, 85, 87]\n",
        "post_intervention_scores = [90, 92, 88, 92, 95, 91, 96, 93, 89, 93]\n",
        "\n",
        "results = analyze_intervention(pre_intervention_scores, post_intervention_scores)\n",
        "results"
      ],
      "metadata": {
        "colab": {
          "base_uri": "https://localhost:8080/"
        },
        "id": "cYT7Tcewif0E",
        "outputId": "2c570689-2998-45ec-9081-8d2ab1649637"
      },
      "execution_count": null,
      "outputs": [
        {
          "output_type": "execute_result",
          "data": {
            "text/plain": [
              "{'t_statistic': -4.42840883965761, 'p_value': 0.0016509548165795493}"
            ]
          },
          "metadata": {},
          "execution_count": 10
        }
      ]
    },
    {
      "cell_type": "markdown",
      "source": [
        "### **Question 18. ? An HR department wants to investigate if there's a gender-based salary gap within the company. Develop a program to analyze salary data, calculate the t-statistic, and determine if there's a statistically significant difference between the average salaries of male and female employees.**\n",
        "\n",
        "\n",
        "### **Use the below code to generate synthetic data:**\n",
        "\n",
        "\n",
        "### **```python**\n",
        "\n",
        "### **Generate synthetic salary data for male and female employees**\n",
        "\n",
        "### **np.random.seed(0)  # For reproducibility**\n",
        "\n",
        "### **male_salaries = np.random.normal(loc=50000, scale=10000, size=20)**\n",
        "\n",
        "### **female_salaries = np.random.normal(loc=55000, scale=9000, size=20)**"
      ],
      "metadata": {
        "id": "PfQxeoCmnOPs"
      }
    },
    {
      "cell_type": "code",
      "source": [
        "import numpy as np\n",
        "from scipy.stats import ttest_ind\n",
        "\n",
        "# Generate synthetic salary data (as provided)\n",
        "np.random.seed(0)\n",
        "male_salaries = np.random.normal(loc=50000, scale=10000, size=20)\n",
        "female_salaries = np.random.normal(loc=55000, scale=9000, size=20)\n",
        "\n",
        "# Perform independent samples t-test\n",
        "t_statistic, p_value = ttest_ind(male_salaries, female_salaries)\n",
        "\n",
        "# Print the results\n",
        "print(\"T-statistic:\", t_statistic)\n",
        "print(\"P-value:\", p_value)\n",
        "\n",
        "# Interpret the results\n",
        "alpha = 0.05  # Significance level\n",
        "if p_value < alpha:\n",
        "    print(\"There is a statistically significant difference in average salaries between male and female employees.\")\n",
        "else:\n",
        "    print(\"There is no statistically significant difference in average salaries between male and female employees.\")"
      ],
      "metadata": {
        "id": "KiWwxaJ6nZst",
        "colab": {
          "base_uri": "https://localhost:8080/"
        },
        "outputId": "7514bafa-aaab-41e0-893c-9da995adc7e7"
      },
      "execution_count": 13,
      "outputs": [
        {
          "output_type": "stream",
          "name": "stdout",
          "text": [
            "T-statistic: 0.06114208969631383\n",
            "P-value: 0.9515665020676465\n",
            "There is no statistically significant difference in average salaries between male and female employees.\n"
          ]
        }
      ]
    },
    {
      "cell_type": "markdown",
      "source": [
        "### **Question 19. A manufacturer produces two different versions of a product and wants to compare their quality scores.Create a Python function to analyze quality assessment data, calculate the t-statistic, and decide whether there's a significant difference in quality between the two versions.**\n",
        "\n",
        "\n",
        "### **Use the following data:**\n",
        "\n",
        "\n",
        "### **```python**\n",
        "\n",
        "### **version1_scores = [85, 88, 82, 89, 87, 84, 90, 88, 85, 86, 91, 83, 87, 84, 89, 86, 84, 88, 85, 86, 89, 90, 87, 88, 85]**\n",
        "\n",
        "### **version2_scores = [80, 78, 83, 81, 79, 82, 76, 80, 78, 81, 77, 82, 80, 79, 82, 79, 80, 81, 79, 82, 79, 78, 80, 81, 82]**"
      ],
      "metadata": {
        "id": "DelOXB1An9r7"
      }
    },
    {
      "cell_type": "code",
      "source": [
        "def compare_product_versions(version1_scores, version2_scores):\n",
        "    \"\"\"\n",
        "    Compares the quality scores of two product versions using a t-test.\n",
        "\n",
        "    Args:\n",
        "        version1_scores: A list of quality scores for version 1.\n",
        "        version2_scores: A list of quality scores for version 2.\n",
        "\n",
        "    Returns:\n",
        "        A dictionary containing the t-statistic and p-value.\n",
        "    \"\"\"\n",
        "    t_statistic, p_value = ttest_ind(version1_scores, version2_scores)\n",
        "    return {\"t_statistic\": t_statistic, \"p_value\": p_value}\n",
        "\n",
        "# Example usage:\n",
        "version1_scores = [85, 88, 82, 89, 87, 84, 90, 88, 85, 86, 91, 83, 87, 84, 89, 86, 84, 88, 85, 86, 89, 90, 87, 88, 85]\n",
        "version2_scores = [80, 78, 83, 81, 79, 82, 76, 80, 78, 81, 77, 82, 80, 79, 82, 79, 80, 81, 79, 82, 79, 78, 80, 81, 82]\n",
        "\n",
        "results = compare_product_versions(version1_scores, version2_scores)\n",
        "results"
      ],
      "metadata": {
        "id": "PiikJL-4nLJk",
        "colab": {
          "base_uri": "https://localhost:8080/"
        },
        "outputId": "b3bcfa43-559e-426e-fa4c-e18e722238a2"
      },
      "execution_count": 14,
      "outputs": [
        {
          "output_type": "execute_result",
          "data": {
            "text/plain": [
              "{'t_statistic': 11.325830417646698, 'p_value': 3.6824250702873965e-15}"
            ]
          },
          "metadata": {},
          "execution_count": 14
        }
      ]
    },
    {
      "cell_type": "markdown",
      "source": [
        "### **Questoin 20. A restaurant chain collects customer satisfaction scores for two different branches. Write a program to analyze the scores, calculate the t-statistic, and determine if there's a statistically significant difference in customer satisfaction between the branches.**\n",
        "\n",
        "\n",
        "### **Use the below data of scores:**\n",
        "\n",
        "### ** ```python**\n",
        "\n",
        "### **branch_a_scores = [4, 5, 3, 4, 5, 4, 5, 3, 4, 4, 5, 4, 4, 3, 4, 5, 5, 4, 3, 4, 5, 4, 3, 5, 4, 4, 5, 3, 4, 5, 4]**\n",
        "\n",
        "### **branch_b_scores = [3, 4, 2, 3, 4, 3, 4, 2, 3, 3, 4, 3, 3, 2, 3, 4, 4, 3, 2, 3, 4, 3, 2, 4, 3, 3, 4, 2, 3, 4, 3]**"
      ],
      "metadata": {
        "id": "W-zbLHDzoVhe"
      }
    },
    {
      "cell_type": "code",
      "source": [
        "branch_a_scores = [4, 5, 3, 4, 5, 4, 5, 3, 4, 4, 5, 4, 4, 3, 4, 5, 5, 4, 3, 4, 5, 4, 3, 5, 4, 4, 5, 3, 4, 5, 4]\n",
        "branch_b_scores = [3, 4, 2, 3, 4, 3, 4, 2, 3, 3, 4, 3, 3, 2, 3, 4, 4, 3, 2, 3, 4, 3, 2, 4, 3, 3, 4, 2, 3, 4, 3]\n",
        "\n",
        "# Perform independent samples t-test\n",
        "t_statistic, p_value = ttest_ind(branch_a_scores, branch_b_scores)\n",
        "\n",
        "# Print the results\n",
        "print(\"T-statistic:\", t_statistic)\n",
        "print(\"P-value:\", p_value)\n",
        "\n",
        "# Interpret the results\n",
        "alpha = 0.05  # Significance level\n",
        "if p_value < alpha:\n",
        "    print(\"There is a statistically significant difference in customer satisfaction between the two branches.\")\n",
        "else:\n",
        "    print(\"There is no statistically significant difference in customer satisfaction between the two branches.\")"
      ],
      "metadata": {
        "colab": {
          "base_uri": "https://localhost:8080/"
        },
        "id": "niOYaVmpoPLF",
        "outputId": "19283e78-e760-4a44-cc95-496d488bb3f6"
      },
      "execution_count": 15,
      "outputs": [
        {
          "output_type": "stream",
          "name": "stdout",
          "text": [
            "T-statistic: 5.480077554195743\n",
            "P-value: 8.895290509945655e-07\n",
            "There is a statistically significant difference in customer satisfaction between the two branches.\n"
          ]
        }
      ]
    },
    {
      "cell_type": "markdown",
      "source": [
        "### **Question 21. A political analyst wants to determine if there is a significant association between age groups and voter preferences (Candidate A or Candidate B). They collect data from a sample of 500 voters and classify them into different age groups and candidate preferences. Perform a Chi-Square test to determine if there is a significant association between age groups and voter preferences.**\n",
        "\n",
        "\n",
        "### **Use the below code to generate data:**\n",
        "\n",
        "### **```python**\n",
        "\n",
        "### **np**.**random**.**seed**(**0**)\n",
        "\n",
        "### **age_groups = np.random.choice([ 18 30 , 31 50 , 51+', 51+'], size=30)**\n",
        "\n",
        "### **voter_preferences = np.random.choice(['Candidate A', 'Candidate B'], size=30)**"
      ],
      "metadata": {
        "id": "zO5HEeobou5e"
      }
    },
    {
      "cell_type": "code",
      "source": [
        "import pandas as pd\n",
        "import numpy as np\n",
        "from scipy.stats import chi2_contingency\n",
        "\n",
        "# Generate synthetic data (as provided)\n",
        "np.random.seed(0)\n",
        "age_groups = np.random.choice(['18-30', '31-50', '51+'], size=500)  # Increased sample size to 500\n",
        "voter_preferences = np.random.choice(['Candidate A', 'Candidate B'], size=500)\n",
        "\n",
        "# Create a contingency table\n",
        "contingency_table = pd.crosstab(age_groups, voter_preferences)\n",
        "\n",
        "# Perform the Chi-Square test\n",
        "chi2, p_value, dof, expected = chi2_contingency(contingency_table)\n",
        "\n",
        "# Print results\n",
        "print(\"Chi-square statistic:\", chi2)\n",
        "print(\"P-value:\", p_value)\n",
        "print(\"Degrees of freedom:\", dof)\n",
        "print(\"Expected frequencies:\", expected)\n",
        "\n",
        "# Interpret the results\n",
        "alpha = 0.05  # Significance level\n",
        "if p_value < alpha:\n",
        "    print(\"There is a statistically significant association between age groups and voter preferences.\")\n",
        "else:\n",
        "    print(\"There is no statistically significant association between age groups and voter preferences.\")"
      ],
      "metadata": {
        "colab": {
          "base_uri": "https://localhost:8080/"
        },
        "id": "P-hsWxqjorqM",
        "outputId": "8d8a1907-772a-4607-e076-d6f4f0cf1dce"
      },
      "execution_count": 17,
      "outputs": [
        {
          "output_type": "stream",
          "name": "stdout",
          "text": [
            "Chi-square statistic: 0.8779923945254768\n",
            "P-value: 0.6446832311860852\n",
            "Degrees of freedom: 2\n",
            "Expected frequencies: [[96.824 85.176]\n",
            " [89.908 79.092]\n",
            " [79.268 69.732]]\n",
            "There is no statistically significant association between age groups and voter preferences.\n"
          ]
        }
      ]
    },
    {
      "cell_type": "markdown",
      "source": [
        "### **Question 22.  A company conducted a customer satisfaction survey to determine if there is a significant relationship between product satisfaction levels (Satisfied, Neutral, Dissatisfied) and the region where customers are located (East, West, North, South). The survey data is summarized in a contingency table. Conduct a ChiSquare test to determine if there is a significant relationship between product satisfaction levels and customer regions.**\n",
        "\n",
        "\n",
        "### **Sample data:**\n",
        "\n",
        "### **```python**\n",
        "\n",
        "### **Sample data: Product satisfaction levels (rows) vs. Customer regions (columns)**\n",
        "\n",
        "### **data = np.array([[50, 30, 40, 20], [30, 40, 30, 50], [20, 30, 40, 30]])**"
      ],
      "metadata": {
        "id": "O9g5ziinpaR3"
      }
    },
    {
      "cell_type": "code",
      "source": [
        "data = np.array([[50, 30, 40, 20], [30, 40, 30, 50], [20, 30, 40, 30]])\n",
        "\n",
        "# Perform the Chi-Square test\n",
        "chi2, p_value, dof, expected = chi2_contingency(data)\n",
        "\n",
        "# Print the results\n",
        "print(\"Chi-square statistic:\", chi2)\n",
        "print(\"P-value:\", p_value)\n",
        "print(\"Degrees of freedom:\", dof)\n",
        "print(\"Expected frequencies:\\n\", expected)\n",
        "\n",
        "# Interpret the results\n",
        "alpha = 0.05  # Significance level\n",
        "if p_value < alpha:\n",
        "    print(\"There is a statistically significant association between product satisfaction and customer regions.\")\n",
        "else:\n",
        "    print(\"There is no statistically significant association between product satisfaction and customer regions.\")"
      ],
      "metadata": {
        "colab": {
          "base_uri": "https://localhost:8080/"
        },
        "id": "3Ws-Y-Z6pRU3",
        "outputId": "9de822e5-9b4d-4632-ed8f-c1cd8cbd467b"
      },
      "execution_count": 18,
      "outputs": [
        {
          "output_type": "stream",
          "name": "stdout",
          "text": [
            "Chi-square statistic: 27.777056277056275\n",
            "P-value: 0.00010349448486004387\n",
            "Degrees of freedom: 6\n",
            "Expected frequencies:\n",
            " [[34.14634146 34.14634146 37.56097561 34.14634146]\n",
            " [36.58536585 36.58536585 40.24390244 36.58536585]\n",
            " [29.26829268 29.26829268 32.19512195 29.26829268]]\n",
            "There is a statistically significant association between product satisfaction and customer regions.\n"
          ]
        }
      ]
    },
    {
      "cell_type": "markdown",
      "source": [
        "### **Question 23. A company implemented an employee training program to improve job performance (Effective, Neutral, Ineffective). After the training, they collected data from a sample of employees and classified them based on their job performance before and after the training. Perform a Chi-Square test to determine if there is a significant difference between job performance levels before and after the training.**\n",
        "\n",
        "\n",
        "### **Sample data:**\n",
        "\n",
        "### **```python**\n",
        "\n",
        "### **Sample data: Job performance levels before (rows) and after (columns) training**\n",
        "\n",
        "### **data = np.array([[50, 30, 20], [30, 40, 30], [20, 30, 40]])**"
      ],
      "metadata": {
        "id": "iymhIN6xqDkC"
      }
    },
    {
      "cell_type": "code",
      "source": [
        "\n",
        "data = np.array([[50, 30, 20], [30, 40, 30], [20, 30, 40]])\n",
        "\n",
        "# Perform the Chi-Square test\n",
        "chi2, p_value, dof, expected = chi2_contingency(data)\n",
        "\n",
        "# Print the results\n",
        "print(\"Chi-square statistic:\", chi2)\n",
        "print(\"P-value:\", p_value)\n",
        "print(\"Degrees of freedom:\", dof)\n",
        "print(\"Expected frequencies:\\n\", expected)\n",
        "\n",
        "# Interpret the results\n",
        "alpha = 0.05  # Significance level\n",
        "if p_value < alpha:\n",
        "    print(\"There is a statistically significant difference in job performance levels before and after the training.\")\n",
        "else:\n",
        "    print(\"There is no statistically significant difference in job performance levels before and after the training.\")"
      ],
      "metadata": {
        "colab": {
          "base_uri": "https://localhost:8080/"
        },
        "id": "dZ8gP6L2p-d0",
        "outputId": "3c00b130-ee85-4df2-9b68-dbcd04515ce8"
      },
      "execution_count": 19,
      "outputs": [
        {
          "output_type": "stream",
          "name": "stdout",
          "text": [
            "Chi-square statistic: 22.161728395061726\n",
            "P-value: 0.00018609719479882557\n",
            "Degrees of freedom: 4\n",
            "Expected frequencies:\n",
            " [[34.48275862 34.48275862 31.03448276]\n",
            " [34.48275862 34.48275862 31.03448276]\n",
            " [31.03448276 31.03448276 27.93103448]]\n",
            "There is a statistically significant difference in job performance levels before and after the training.\n"
          ]
        }
      ]
    },
    {
      "cell_type": "markdown",
      "source": [
        "### **Question 24. A company produces three different versions of a product: Standard, Premium, and Deluxe. The company wants to determine if there is a significant difference in customer satisfaction scores among the three product versions. They conducted a survey and collected customer satisfaction scores for each version from a random sample of customers. Perform an ANOVA test to determine if there is a significant difference in customer satisfaction scores.**\n",
        "\n",
        "\n",
        "### **Use the following data:**\n",
        "\n",
        "### **```python**\n",
        "\n",
        "### **Sample** **data**: **Customer** **satisfaction** **scores** **for** **each** **product** version\n",
        "\n",
        "### **standard_scores = [80, 85, 90, 78, 88, 82, 92, 78, 85, 87]**\n",
        "\n",
        "### **premium_scores = [90, 92, 88, 92, 95, 91, 96, 93, 89, 93]**\n",
        "\n",
        "### **deluxe_scores = [95, 98, 92, 97, 96, 94, 98, 97, 92, 99]**"
      ],
      "metadata": {
        "id": "TtJkrf8XrH3H"
      }
    },
    {
      "cell_type": "code",
      "source": [
        "import statsmodels.api as sm\n",
        "from statsmodels.formula.api import ols\n",
        "# Import the stats module from scipy\n",
        "from scipy import stats\n",
        "\n",
        "# Sample data: Customer satisfaction scores for each product version\n",
        "standard_scores = [80, 85, 90, 78, 88, 82, 92, 78, 85, 87]\n",
        "premium_scores = [90, 92, 88, 92, 95, 91, 96, 93, 89, 93]\n",
        "deluxe_scores = [95, 98, 92, 97, 96, 94, 98, 97, 92, 99]\n",
        "\n",
        "# Perform one-way ANOVA test\n",
        "f_statistic, p_value = stats.f_oneway(standard_scores, premium_scores, deluxe_scores)\n",
        "\n",
        "# Print the results\n",
        "print(\"F-statistic:\", f_statistic)\n",
        "print(\"P-value:\", p_value)\n",
        "\n",
        "# Interpret the results\n",
        "alpha = 0.05  # Significance level\n",
        "if p_value < alpha:\n",
        "    print(\"Reject the null hypothesis: There is a significant difference in customer satisfaction scores among the three product versions.\")\n",
        "else:\n",
        "    print(\"Fail to reject the null hypothesis: There is no significant difference in customer satisfaction scores among the three product versions.\")"
      ],
      "metadata": {
        "colab": {
          "base_uri": "https://localhost:8080/"
        },
        "id": "u2Mv4f4AsSS_",
        "outputId": "b24591ca-7d5f-40bb-a7d2-ab2b074f4f64"
      },
      "execution_count": 22,
      "outputs": [
        {
          "output_type": "stream",
          "name": "stdout",
          "text": [
            "F-statistic: 27.03556231003039\n",
            "P-value: 3.5786328857349003e-07\n",
            "Reject the null hypothesis: There is a significant difference in customer satisfaction scores among the three product versions.\n"
          ]
        }
      ]
    },
    {
      "cell_type": "code",
      "source": [],
      "metadata": {
        "id": "2kLaOZzSsg3j"
      },
      "execution_count": null,
      "outputs": []
    }
  ]
}